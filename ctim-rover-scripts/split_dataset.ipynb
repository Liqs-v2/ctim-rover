{
 "cells": [
  {
   "cell_type": "markdown",
   "id": "9e01dfaca78caea1",
   "metadata": {},
   "source": [
    "# Exploratory Data Analysis (EDA) of SWE-Bench Verified Annotation Data\n",
    "\n",
    "To determine which instances of SWE-Bench Verified are to be moved into the train- and which into the test-split and to develop the methodology for doing so, we will make use of the SWE-Bench Verified annotation data [provided by OpenAI.](https://openai.com/index/introducing-swe-bench-verified/)"
   ]
  },
  {
   "cell_type": "markdown",
   "id": "19a0771f51ffc647",
   "metadata": {},
   "source": [
    "## Get annotation data for SWE-Bench Verified samples"
   ]
  },
  {
   "cell_type": "code",
   "execution_count": 1,
   "id": "c2e53305cc6fe47b",
   "metadata": {
    "ExecuteTime": {
     "end_time": "2024-12-04T10:46:11.072372Z",
     "start_time": "2024-12-04T10:46:11.059558Z"
    }
   },
   "outputs": [],
   "source": [
    "from typing import Tuple\n",
    "\n",
    "from scipy.stats import chi2_contingency\n",
    "import numpy as np\n",
    "import pandas as pd\n",
    "import json\n",
    "import os\n",
    "import matplotlib.pyplot as plt\n",
    "from sklearn.model_selection import train_test_split"
   ]
  },
  {
   "cell_type": "code",
   "execution_count": 3,
   "id": "initial_id",
   "metadata": {
    "ExecuteTime": {
     "end_time": "2024-11-13T09:16:03.260911Z",
     "start_time": "2024-11-13T09:16:03.197099Z"
    },
    "collapsed": true
   },
   "outputs": [],
   "source": [
    "annotation_data = pd.read_csv('../swe-bench-annotation-results/samples_with_3_annotations_public.csv')\n",
    "ensembled_annotation_data = pd.read_csv('../swe-bench-annotation-results/ensembled_annotations_public.csv')"
   ]
  },
  {
   "cell_type": "code",
   "execution_count": 4,
   "id": "8e7135c648f5155b",
   "metadata": {
    "ExecuteTime": {
     "end_time": "2024-11-13T09:16:04.276327Z",
     "start_time": "2024-11-13T09:16:04.270011Z"
    }
   },
   "outputs": [
    {
     "name": "stdout",
     "output_type": "stream",
     "text": [
      "<class 'pandas.core.frame.DataFrame'>\n",
      "RangeIndex: 5097 entries, 0 to 5096\n",
      "Data columns (total 20 columns):\n",
      " #   Column                      Non-Null Count  Dtype  \n",
      "---  ------                      --------------  -----  \n",
      " 0   instance_id                 5097 non-null   object \n",
      " 1   user_id                     5097 non-null   int64  \n",
      " 2   difficulty                  5096 non-null   object \n",
      " 3   difficulty_notes            5077 non-null   object \n",
      " 4   underspecified              5093 non-null   float64\n",
      " 5   underspecified_notes        5096 non-null   object \n",
      " 6   false_negative              5092 non-null   float64\n",
      " 7   false_negative_notes        5095 non-null   object \n",
      " 8   other_major_issues          5068 non-null   float64\n",
      " 9   other_notes                 328 non-null    object \n",
      " 10  annotator_confidence        5097 non-null   int64  \n",
      " 11  claimed_at                  5097 non-null   object \n",
      " 12  updated_at                  5097 non-null   object \n",
      " 13  submitted_at                5097 non-null   object \n",
      " 14  reviews                     0 non-null      float64\n",
      " 15  comments                    0 non-null      float64\n",
      " 16  task_batch_name             5097 non-null   object \n",
      " 17  problematic                 5097 non-null   bool   \n",
      " 18  underspecified_problematic  5097 non-null   bool   \n",
      " 19  false_negative_problematic  5097 non-null   bool   \n",
      "dtypes: bool(3), float64(5), int64(2), object(10)\n",
      "memory usage: 692.0+ KB\n"
     ]
    }
   ],
   "source": [
    "annotation_data.info()"
   ]
  },
  {
   "cell_type": "code",
   "execution_count": 5,
   "id": "bc368157122be446",
   "metadata": {
    "ExecuteTime": {
     "end_time": "2024-11-13T09:16:04.737306Z",
     "start_time": "2024-11-13T09:16:04.733339Z"
    }
   },
   "outputs": [
    {
     "name": "stdout",
     "output_type": "stream",
     "text": [
      "<class 'pandas.core.frame.DataFrame'>\n",
      "RangeIndex: 1699 entries, 0 to 1698\n",
      "Data columns (total 14 columns):\n",
      " #   Column                                  Non-Null Count  Dtype  \n",
      "---  ------                                  --------------  -----  \n",
      " 0   instance_id                             1699 non-null   object \n",
      " 1   underspecified                          1699 non-null   float64\n",
      " 2   underspecified_notes                    1699 non-null   object \n",
      " 3   false_negative                          1699 non-null   float64\n",
      " 4   false_negative_notes                    1699 non-null   object \n",
      " 5   other_major_issues                      1699 non-null   float64\n",
      " 6   other_notes                             203 non-null    object \n",
      " 7   difficulty                              1699 non-null   object \n",
      " 8   underspecified_decided_by               1699 non-null   int64  \n",
      " 9   false_negative_decided_by               1699 non-null   int64  \n",
      " 10  other_major_issues_decided_by           1699 non-null   int64  \n",
      " 11  difficulty_decided_by                   1699 non-null   object \n",
      " 12  difficulty_ensemble_decision_procedure  1699 non-null   object \n",
      " 13  filter_out                              1699 non-null   bool   \n",
      "dtypes: bool(1), float64(3), int64(3), object(7)\n",
      "memory usage: 174.3+ KB\n"
     ]
    }
   ],
   "source": [
    "ensembled_annotation_data.info()"
   ]
  },
  {
   "cell_type": "markdown",
   "id": "155e62591c20f7cf",
   "metadata": {},
   "source": [
    "The ensembled annotation data file contains the annotations aggregate to an `instance_id` level with respect to the 1699 instance ids from SWE-Bench that they investigated. The data are aggregated by taking the maximum value, according to their blogpost. Let's quickly check this qualitatively."
   ]
  },
  {
   "cell_type": "code",
   "execution_count": 6,
   "id": "9d51ce6d741f70bc",
   "metadata": {
    "ExecuteTime": {
     "end_time": "2024-11-13T09:16:05.566447Z",
     "start_time": "2024-11-13T09:16:05.559244Z"
    }
   },
   "outputs": [
    {
     "data": {
      "text/html": [
       "<div>\n",
       "<style scoped>\n",
       "    .dataframe tbody tr th:only-of-type {\n",
       "        vertical-align: middle;\n",
       "    }\n",
       "\n",
       "    .dataframe tbody tr th {\n",
       "        vertical-align: top;\n",
       "    }\n",
       "\n",
       "    .dataframe thead th {\n",
       "        text-align: right;\n",
       "    }\n",
       "</style>\n",
       "<table border=\"1\" class=\"dataframe\">\n",
       "  <thead>\n",
       "    <tr style=\"text-align: right;\">\n",
       "      <th></th>\n",
       "      <th>instance_id</th>\n",
       "      <th>underspecified</th>\n",
       "      <th>false_negative</th>\n",
       "      <th>difficulty</th>\n",
       "      <th>other_major_issues</th>\n",
       "    </tr>\n",
       "  </thead>\n",
       "  <tbody>\n",
       "    <tr>\n",
       "      <th>0</th>\n",
       "      <td>astropy__astropy-11693</td>\n",
       "      <td>1.0</td>\n",
       "      <td>3.0</td>\n",
       "      <td>15 min - 1 hour</td>\n",
       "      <td>0.0</td>\n",
       "    </tr>\n",
       "    <tr>\n",
       "      <th>1</th>\n",
       "      <td>astropy__astropy-12544</td>\n",
       "      <td>0.0</td>\n",
       "      <td>3.0</td>\n",
       "      <td>1-4 hours</td>\n",
       "      <td>0.0</td>\n",
       "    </tr>\n",
       "    <tr>\n",
       "      <th>2</th>\n",
       "      <td>astropy__astropy-12825</td>\n",
       "      <td>1.0</td>\n",
       "      <td>2.0</td>\n",
       "      <td>1-4 hours</td>\n",
       "      <td>0.0</td>\n",
       "    </tr>\n",
       "    <tr>\n",
       "      <th>3</th>\n",
       "      <td>astropy__astropy-12842</td>\n",
       "      <td>1.0</td>\n",
       "      <td>2.0</td>\n",
       "      <td>1-4 hours</td>\n",
       "      <td>0.0</td>\n",
       "    </tr>\n",
       "    <tr>\n",
       "      <th>4</th>\n",
       "      <td>astropy__astropy-12880</td>\n",
       "      <td>1.0</td>\n",
       "      <td>3.0</td>\n",
       "      <td>&lt;15 min fix</td>\n",
       "      <td>0.0</td>\n",
       "    </tr>\n",
       "    <tr>\n",
       "      <th>...</th>\n",
       "      <td>...</td>\n",
       "      <td>...</td>\n",
       "      <td>...</td>\n",
       "      <td>...</td>\n",
       "      <td>...</td>\n",
       "    </tr>\n",
       "    <tr>\n",
       "      <th>1694</th>\n",
       "      <td>sympy__sympy-24539</td>\n",
       "      <td>0.0</td>\n",
       "      <td>1.0</td>\n",
       "      <td>&lt;15 min fix</td>\n",
       "      <td>0.0</td>\n",
       "    </tr>\n",
       "    <tr>\n",
       "      <th>1695</th>\n",
       "      <td>sympy__sympy-24562</td>\n",
       "      <td>0.0</td>\n",
       "      <td>0.0</td>\n",
       "      <td>&lt;15 min fix</td>\n",
       "      <td>0.0</td>\n",
       "    </tr>\n",
       "    <tr>\n",
       "      <th>1696</th>\n",
       "      <td>sympy__sympy-24661</td>\n",
       "      <td>0.0</td>\n",
       "      <td>0.0</td>\n",
       "      <td>15 min - 1 hour</td>\n",
       "      <td>0.0</td>\n",
       "    </tr>\n",
       "    <tr>\n",
       "      <th>1697</th>\n",
       "      <td>sympy__sympy-24723</td>\n",
       "      <td>1.0</td>\n",
       "      <td>0.0</td>\n",
       "      <td>&lt;15 min fix</td>\n",
       "      <td>0.0</td>\n",
       "    </tr>\n",
       "    <tr>\n",
       "      <th>1698</th>\n",
       "      <td>sympy__sympy-24909</td>\n",
       "      <td>1.0</td>\n",
       "      <td>2.0</td>\n",
       "      <td>&lt;15 min fix</td>\n",
       "      <td>0.0</td>\n",
       "    </tr>\n",
       "  </tbody>\n",
       "</table>\n",
       "<p>1699 rows × 5 columns</p>\n",
       "</div>"
      ],
      "text/plain": [
       "                 instance_id  underspecified  false_negative       difficulty  \\\n",
       "0     astropy__astropy-11693             1.0             3.0  15 min - 1 hour   \n",
       "1     astropy__astropy-12544             0.0             3.0        1-4 hours   \n",
       "2     astropy__astropy-12825             1.0             2.0        1-4 hours   \n",
       "3     astropy__astropy-12842             1.0             2.0        1-4 hours   \n",
       "4     astropy__astropy-12880             1.0             3.0      <15 min fix   \n",
       "...                      ...             ...             ...              ...   \n",
       "1694      sympy__sympy-24539             0.0             1.0      <15 min fix   \n",
       "1695      sympy__sympy-24562             0.0             0.0      <15 min fix   \n",
       "1696      sympy__sympy-24661             0.0             0.0  15 min - 1 hour   \n",
       "1697      sympy__sympy-24723             1.0             0.0      <15 min fix   \n",
       "1698      sympy__sympy-24909             1.0             2.0      <15 min fix   \n",
       "\n",
       "      other_major_issues  \n",
       "0                    0.0  \n",
       "1                    0.0  \n",
       "2                    0.0  \n",
       "3                    0.0  \n",
       "4                    0.0  \n",
       "...                  ...  \n",
       "1694                 0.0  \n",
       "1695                 0.0  \n",
       "1696                 0.0  \n",
       "1697                 0.0  \n",
       "1698                 0.0  \n",
       "\n",
       "[1699 rows x 5 columns]"
      ]
     },
     "execution_count": 6,
     "metadata": {},
     "output_type": "execute_result"
    }
   ],
   "source": [
    "ensembled_annotation_data[['instance_id','underspecified','false_negative', 'difficulty','other_major_issues']]"
   ]
  },
  {
   "cell_type": "code",
   "execution_count": 7,
   "id": "fa63097c61fabb1f",
   "metadata": {
    "ExecuteTime": {
     "end_time": "2024-11-13T09:16:06.184036Z",
     "start_time": "2024-11-13T09:16:06.179660Z"
    }
   },
   "outputs": [
    {
     "data": {
      "text/html": [
       "<div>\n",
       "<style scoped>\n",
       "    .dataframe tbody tr th:only-of-type {\n",
       "        vertical-align: middle;\n",
       "    }\n",
       "\n",
       "    .dataframe tbody tr th {\n",
       "        vertical-align: top;\n",
       "    }\n",
       "\n",
       "    .dataframe thead th {\n",
       "        text-align: right;\n",
       "    }\n",
       "</style>\n",
       "<table border=\"1\" class=\"dataframe\">\n",
       "  <thead>\n",
       "    <tr style=\"text-align: right;\">\n",
       "      <th></th>\n",
       "      <th>instance_id</th>\n",
       "      <th>underspecified</th>\n",
       "      <th>false_negative</th>\n",
       "      <th>difficulty</th>\n",
       "      <th>other_major_issues</th>\n",
       "    </tr>\n",
       "  </thead>\n",
       "  <tbody>\n",
       "    <tr>\n",
       "      <th>15</th>\n",
       "      <td>astropy__astropy-12891</td>\n",
       "      <td>2.0</td>\n",
       "      <td>3.0</td>\n",
       "      <td>15 min - 1 hour</td>\n",
       "      <td>0.0</td>\n",
       "    </tr>\n",
       "    <tr>\n",
       "      <th>16</th>\n",
       "      <td>astropy__astropy-12891</td>\n",
       "      <td>1.0</td>\n",
       "      <td>2.0</td>\n",
       "      <td>1-4 hours</td>\n",
       "      <td>0.0</td>\n",
       "    </tr>\n",
       "    <tr>\n",
       "      <th>17</th>\n",
       "      <td>astropy__astropy-12891</td>\n",
       "      <td>0.0</td>\n",
       "      <td>0.0</td>\n",
       "      <td>1-4 hours</td>\n",
       "      <td>0.0</td>\n",
       "    </tr>\n",
       "  </tbody>\n",
       "</table>\n",
       "</div>"
      ],
      "text/plain": [
       "               instance_id  underspecified  false_negative       difficulty  \\\n",
       "15  astropy__astropy-12891             2.0             3.0  15 min - 1 hour   \n",
       "16  astropy__astropy-12891             1.0             2.0        1-4 hours   \n",
       "17  astropy__astropy-12891             0.0             0.0        1-4 hours   \n",
       "\n",
       "    other_major_issues  \n",
       "15                 0.0  \n",
       "16                 0.0  \n",
       "17                 0.0  "
      ]
     },
     "execution_count": 7,
     "metadata": {},
     "output_type": "execute_result"
    }
   ],
   "source": [
    "annotation_data[annotation_data['instance_id'] == 'astropy__astropy-12891'][['instance_id','underspecified','false_negative', 'difficulty','other_major_issues']]"
   ]
  },
  {
   "cell_type": "markdown",
   "id": "4e62e9d5488992cc",
   "metadata": {},
   "source": [
    "For the samples we checked, this seems to hold up. We will this continue by just looking at the aggregated dataset."
   ]
  },
  {
   "cell_type": "code",
   "execution_count": 8,
   "id": "c3e41598f5980099",
   "metadata": {
    "ExecuteTime": {
     "end_time": "2024-11-13T09:16:07.483364Z",
     "start_time": "2024-11-13T09:16:07.480007Z"
    }
   },
   "outputs": [],
   "source": [
    "del annotation_data"
   ]
  },
  {
   "cell_type": "code",
   "execution_count": 9,
   "id": "352ece23c1e55b1",
   "metadata": {
    "ExecuteTime": {
     "end_time": "2024-11-13T09:16:07.795595Z",
     "start_time": "2024-11-13T09:16:07.792764Z"
    }
   },
   "outputs": [],
   "source": [
    "ensembled_annotation_data = ensembled_annotation_data[ensembled_annotation_data['filter_out'] == False]"
   ]
  },
  {
   "cell_type": "code",
   "execution_count": 10,
   "id": "156cd238971980e6",
   "metadata": {
    "ExecuteTime": {
     "end_time": "2024-11-13T09:16:08.393798Z",
     "start_time": "2024-11-13T09:16:08.387775Z"
    }
   },
   "outputs": [
    {
     "data": {
      "text/html": [
       "<div>\n",
       "<style scoped>\n",
       "    .dataframe tbody tr th:only-of-type {\n",
       "        vertical-align: middle;\n",
       "    }\n",
       "\n",
       "    .dataframe tbody tr th {\n",
       "        vertical-align: top;\n",
       "    }\n",
       "\n",
       "    .dataframe thead th {\n",
       "        text-align: right;\n",
       "    }\n",
       "</style>\n",
       "<table border=\"1\" class=\"dataframe\">\n",
       "  <thead>\n",
       "    <tr style=\"text-align: right;\">\n",
       "      <th></th>\n",
       "      <th>instance_id</th>\n",
       "      <th>underspecified</th>\n",
       "      <th>underspecified_notes</th>\n",
       "      <th>false_negative</th>\n",
       "      <th>false_negative_notes</th>\n",
       "      <th>other_major_issues</th>\n",
       "      <th>other_notes</th>\n",
       "      <th>difficulty</th>\n",
       "      <th>underspecified_decided_by</th>\n",
       "      <th>false_negative_decided_by</th>\n",
       "      <th>other_major_issues_decided_by</th>\n",
       "      <th>difficulty_decided_by</th>\n",
       "      <th>difficulty_ensemble_decision_procedure</th>\n",
       "      <th>filter_out</th>\n",
       "    </tr>\n",
       "  </thead>\n",
       "  <tbody>\n",
       "    <tr>\n",
       "      <th>6</th>\n",
       "      <td>astropy__astropy-12907</td>\n",
       "      <td>1.0</td>\n",
       "      <td>The issue description is clear, explaining tha...</td>\n",
       "      <td>0.0</td>\n",
       "      <td>The goal of the test patch is to evaluate nest...</td>\n",
       "      <td>0.0</td>\n",
       "      <td>NaN</td>\n",
       "      <td>15 min - 1 hour</td>\n",
       "      <td>75</td>\n",
       "      <td>75</td>\n",
       "      <td>75</td>\n",
       "      <td>[75, 28]</td>\n",
       "      <td>majority</td>\n",
       "      <td>False</td>\n",
       "    </tr>\n",
       "    <tr>\n",
       "      <th>9</th>\n",
       "      <td>astropy__astropy-13033</td>\n",
       "      <td>1.0</td>\n",
       "      <td>The issue's concern is well understood. The va...</td>\n",
       "      <td>1.0</td>\n",
       "      <td>The error message is raised is particular to t...</td>\n",
       "      <td>0.0</td>\n",
       "      <td>NaN</td>\n",
       "      <td>15 min - 1 hour</td>\n",
       "      <td>61</td>\n",
       "      <td>61</td>\n",
       "      <td>13</td>\n",
       "      <td>[13, 17]</td>\n",
       "      <td>majority</td>\n",
       "      <td>False</td>\n",
       "    </tr>\n",
       "    <tr>\n",
       "      <th>15</th>\n",
       "      <td>astropy__astropy-13236</td>\n",
       "      <td>1.0</td>\n",
       "      <td>1. It is clearly suggested that automatic conv...</td>\n",
       "      <td>0.0</td>\n",
       "      <td>1. Issue description wants the agent to remove...</td>\n",
       "      <td>0.0</td>\n",
       "      <td>NaN</td>\n",
       "      <td>15 min - 1 hour</td>\n",
       "      <td>71</td>\n",
       "      <td>71</td>\n",
       "      <td>71</td>\n",
       "      <td>[71]</td>\n",
       "      <td>median</td>\n",
       "      <td>False</td>\n",
       "    </tr>\n",
       "    <tr>\n",
       "      <th>18</th>\n",
       "      <td>astropy__astropy-13398</td>\n",
       "      <td>0.0</td>\n",
       "      <td>Issue description is well specified. It inform...</td>\n",
       "      <td>0.0</td>\n",
       "      <td>The tests are well scoped and cover all possib...</td>\n",
       "      <td>0.0</td>\n",
       "      <td>NaN</td>\n",
       "      <td>1-4 hours</td>\n",
       "      <td>12</td>\n",
       "      <td>12</td>\n",
       "      <td>12</td>\n",
       "      <td>[12, 62]</td>\n",
       "      <td>majority</td>\n",
       "      <td>False</td>\n",
       "    </tr>\n",
       "    <tr>\n",
       "      <th>20</th>\n",
       "      <td>astropy__astropy-13453</td>\n",
       "      <td>0.0</td>\n",
       "      <td>The issue description is very clear and well-o...</td>\n",
       "      <td>0.0</td>\n",
       "      <td>The `test_write_table_formatted_columns` funct...</td>\n",
       "      <td>0.0</td>\n",
       "      <td>NaN</td>\n",
       "      <td>15 min - 1 hour</td>\n",
       "      <td>67</td>\n",
       "      <td>67</td>\n",
       "      <td>67</td>\n",
       "      <td>[61, 28]</td>\n",
       "      <td>majority</td>\n",
       "      <td>False</td>\n",
       "    </tr>\n",
       "    <tr>\n",
       "      <th>...</th>\n",
       "      <td>...</td>\n",
       "      <td>...</td>\n",
       "      <td>...</td>\n",
       "      <td>...</td>\n",
       "      <td>...</td>\n",
       "      <td>...</td>\n",
       "      <td>...</td>\n",
       "      <td>...</td>\n",
       "      <td>...</td>\n",
       "      <td>...</td>\n",
       "      <td>...</td>\n",
       "      <td>...</td>\n",
       "      <td>...</td>\n",
       "      <td>...</td>\n",
       "    </tr>\n",
       "    <tr>\n",
       "      <th>1692</th>\n",
       "      <td>sympy__sympy-24443</td>\n",
       "      <td>1.0</td>\n",
       "      <td>The `_check_homomorphism` function is broken f...</td>\n",
       "      <td>0.0</td>\n",
       "      <td>The test patch tests the code raising error in...</td>\n",
       "      <td>0.0</td>\n",
       "      <td>NaN</td>\n",
       "      <td>15 min - 1 hour</td>\n",
       "      <td>28</td>\n",
       "      <td>28</td>\n",
       "      <td>28</td>\n",
       "      <td>[28, 9, 12]</td>\n",
       "      <td>majority</td>\n",
       "      <td>False</td>\n",
       "    </tr>\n",
       "    <tr>\n",
       "      <th>1694</th>\n",
       "      <td>sympy__sympy-24539</td>\n",
       "      <td>0.0</td>\n",
       "      <td>The issue is crystal clear in the ticket. It s...</td>\n",
       "      <td>1.0</td>\n",
       "      <td>The tests specifically check whether the `as_e...</td>\n",
       "      <td>0.0</td>\n",
       "      <td>NaN</td>\n",
       "      <td>&lt;15 min fix</td>\n",
       "      <td>7</td>\n",
       "      <td>43</td>\n",
       "      <td>7</td>\n",
       "      <td>[7, 44, 43]</td>\n",
       "      <td>majority</td>\n",
       "      <td>False</td>\n",
       "    </tr>\n",
       "    <tr>\n",
       "      <th>1695</th>\n",
       "      <td>sympy__sympy-24562</td>\n",
       "      <td>0.0</td>\n",
       "      <td>The issue raises a bug where the output of `Ra...</td>\n",
       "      <td>0.0</td>\n",
       "      <td>The tests check that the value of `Rational(p,...</td>\n",
       "      <td>0.0</td>\n",
       "      <td>NaN</td>\n",
       "      <td>&lt;15 min fix</td>\n",
       "      <td>65</td>\n",
       "      <td>65</td>\n",
       "      <td>65</td>\n",
       "      <td>[13, 7]</td>\n",
       "      <td>majority</td>\n",
       "      <td>False</td>\n",
       "    </tr>\n",
       "    <tr>\n",
       "      <th>1696</th>\n",
       "      <td>sympy__sympy-24661</td>\n",
       "      <td>0.0</td>\n",
       "      <td>The ticket is very clear. The issue is that th...</td>\n",
       "      <td>0.0</td>\n",
       "      <td>The tests are testing all the relational possi...</td>\n",
       "      <td>0.0</td>\n",
       "      <td>NaN</td>\n",
       "      <td>15 min - 1 hour</td>\n",
       "      <td>7</td>\n",
       "      <td>7</td>\n",
       "      <td>7</td>\n",
       "      <td>[7, 10]</td>\n",
       "      <td>majority</td>\n",
       "      <td>False</td>\n",
       "    </tr>\n",
       "    <tr>\n",
       "      <th>1697</th>\n",
       "      <td>sympy__sympy-24723</td>\n",
       "      <td>1.0</td>\n",
       "      <td>Sympy is returning the wrong constant in the P...</td>\n",
       "      <td>0.0</td>\n",
       "      <td>The test confirms the result of the formula is...</td>\n",
       "      <td>0.0</td>\n",
       "      <td>NaN</td>\n",
       "      <td>&lt;15 min fix</td>\n",
       "      <td>59</td>\n",
       "      <td>78</td>\n",
       "      <td>78</td>\n",
       "      <td>[78, 59, 72]</td>\n",
       "      <td>majority</td>\n",
       "      <td>False</td>\n",
       "    </tr>\n",
       "  </tbody>\n",
       "</table>\n",
       "<p>539 rows × 14 columns</p>\n",
       "</div>"
      ],
      "text/plain": [
       "                 instance_id  underspecified  \\\n",
       "6     astropy__astropy-12907             1.0   \n",
       "9     astropy__astropy-13033             1.0   \n",
       "15    astropy__astropy-13236             1.0   \n",
       "18    astropy__astropy-13398             0.0   \n",
       "20    astropy__astropy-13453             0.0   \n",
       "...                      ...             ...   \n",
       "1692      sympy__sympy-24443             1.0   \n",
       "1694      sympy__sympy-24539             0.0   \n",
       "1695      sympy__sympy-24562             0.0   \n",
       "1696      sympy__sympy-24661             0.0   \n",
       "1697      sympy__sympy-24723             1.0   \n",
       "\n",
       "                                   underspecified_notes  false_negative  \\\n",
       "6     The issue description is clear, explaining tha...             0.0   \n",
       "9     The issue's concern is well understood. The va...             1.0   \n",
       "15    1. It is clearly suggested that automatic conv...             0.0   \n",
       "18    Issue description is well specified. It inform...             0.0   \n",
       "20    The issue description is very clear and well-o...             0.0   \n",
       "...                                                 ...             ...   \n",
       "1692  The `_check_homomorphism` function is broken f...             0.0   \n",
       "1694  The issue is crystal clear in the ticket. It s...             1.0   \n",
       "1695  The issue raises a bug where the output of `Ra...             0.0   \n",
       "1696  The ticket is very clear. The issue is that th...             0.0   \n",
       "1697  Sympy is returning the wrong constant in the P...             0.0   \n",
       "\n",
       "                                   false_negative_notes  other_major_issues  \\\n",
       "6     The goal of the test patch is to evaluate nest...                 0.0   \n",
       "9     The error message is raised is particular to t...                 0.0   \n",
       "15    1. Issue description wants the agent to remove...                 0.0   \n",
       "18    The tests are well scoped and cover all possib...                 0.0   \n",
       "20    The `test_write_table_formatted_columns` funct...                 0.0   \n",
       "...                                                 ...                 ...   \n",
       "1692  The test patch tests the code raising error in...                 0.0   \n",
       "1694  The tests specifically check whether the `as_e...                 0.0   \n",
       "1695  The tests check that the value of `Rational(p,...                 0.0   \n",
       "1696  The tests are testing all the relational possi...                 0.0   \n",
       "1697  The test confirms the result of the formula is...                 0.0   \n",
       "\n",
       "     other_notes       difficulty  underspecified_decided_by  \\\n",
       "6            NaN  15 min - 1 hour                         75   \n",
       "9            NaN  15 min - 1 hour                         61   \n",
       "15           NaN  15 min - 1 hour                         71   \n",
       "18           NaN        1-4 hours                         12   \n",
       "20           NaN  15 min - 1 hour                         67   \n",
       "...          ...              ...                        ...   \n",
       "1692         NaN  15 min - 1 hour                         28   \n",
       "1694         NaN      <15 min fix                          7   \n",
       "1695         NaN      <15 min fix                         65   \n",
       "1696         NaN  15 min - 1 hour                          7   \n",
       "1697         NaN      <15 min fix                         59   \n",
       "\n",
       "      false_negative_decided_by  other_major_issues_decided_by  \\\n",
       "6                            75                             75   \n",
       "9                            61                             13   \n",
       "15                           71                             71   \n",
       "18                           12                             12   \n",
       "20                           67                             67   \n",
       "...                         ...                            ...   \n",
       "1692                         28                             28   \n",
       "1694                         43                              7   \n",
       "1695                         65                             65   \n",
       "1696                          7                              7   \n",
       "1697                         78                             78   \n",
       "\n",
       "     difficulty_decided_by difficulty_ensemble_decision_procedure  filter_out  \n",
       "6                 [75, 28]                               majority       False  \n",
       "9                 [13, 17]                               majority       False  \n",
       "15                    [71]                                 median       False  \n",
       "18                [12, 62]                               majority       False  \n",
       "20                [61, 28]                               majority       False  \n",
       "...                    ...                                    ...         ...  \n",
       "1692           [28, 9, 12]                               majority       False  \n",
       "1694           [7, 44, 43]                               majority       False  \n",
       "1695               [13, 7]                               majority       False  \n",
       "1696               [7, 10]                               majority       False  \n",
       "1697          [78, 59, 72]                               majority       False  \n",
       "\n",
       "[539 rows x 14 columns]"
      ]
     },
     "execution_count": 10,
     "metadata": {},
     "output_type": "execute_result"
    }
   ],
   "source": [
    "ensembled_annotation_data"
   ]
  },
  {
   "cell_type": "markdown",
   "id": "43a285bf54e7195",
   "metadata": {},
   "source": [
    "We note that of the samples that 539 samples remain. That means there are still 39 more than ended up in the final SWE-Bench. The authors state that they attempt to maximize the amount of difficult samples present and then randomly sample the rest. Thus we will need to use external `instance_id` from the actual dataset to get the annotation data for the dataset."
   ]
  },
  {
   "cell_type": "code",
   "execution_count": 11,
   "id": "ec4ca9d2c698c2f4",
   "metadata": {
    "ExecuteTime": {
     "end_time": "2024-11-13T09:16:15.765274Z",
     "start_time": "2024-11-13T09:16:15.763254Z"
    }
   },
   "outputs": [],
   "source": [
    "swe_verified_tasks = open('../conf/swe_verified_tasks.txt', mode='r').read().splitlines()"
   ]
  },
  {
   "cell_type": "code",
   "execution_count": 12,
   "id": "53caa05539fd45c4",
   "metadata": {
    "ExecuteTime": {
     "end_time": "2024-11-13T09:16:16.509227Z",
     "start_time": "2024-11-13T09:16:16.506990Z"
    }
   },
   "outputs": [],
   "source": [
    "ensembled_annotation_data = ensembled_annotation_data[ensembled_annotation_data['instance_id'].isin(swe_verified_tasks)]"
   ]
  },
  {
   "cell_type": "code",
   "execution_count": 13,
   "id": "28f9fdcae0e07098",
   "metadata": {
    "ExecuteTime": {
     "end_time": "2024-11-13T09:16:16.948804Z",
     "start_time": "2024-11-13T09:16:16.943880Z"
    }
   },
   "outputs": [
    {
     "data": {
      "text/html": [
       "<div>\n",
       "<style scoped>\n",
       "    .dataframe tbody tr th:only-of-type {\n",
       "        vertical-align: middle;\n",
       "    }\n",
       "\n",
       "    .dataframe tbody tr th {\n",
       "        vertical-align: top;\n",
       "    }\n",
       "\n",
       "    .dataframe thead th {\n",
       "        text-align: right;\n",
       "    }\n",
       "</style>\n",
       "<table border=\"1\" class=\"dataframe\">\n",
       "  <thead>\n",
       "    <tr style=\"text-align: right;\">\n",
       "      <th></th>\n",
       "      <th>instance_id</th>\n",
       "      <th>underspecified</th>\n",
       "      <th>false_negative</th>\n",
       "      <th>difficulty</th>\n",
       "      <th>other_major_issues</th>\n",
       "    </tr>\n",
       "  </thead>\n",
       "  <tbody>\n",
       "    <tr>\n",
       "      <th>6</th>\n",
       "      <td>astropy__astropy-12907</td>\n",
       "      <td>1.0</td>\n",
       "      <td>0.0</td>\n",
       "      <td>15 min - 1 hour</td>\n",
       "      <td>0.0</td>\n",
       "    </tr>\n",
       "    <tr>\n",
       "      <th>9</th>\n",
       "      <td>astropy__astropy-13033</td>\n",
       "      <td>1.0</td>\n",
       "      <td>1.0</td>\n",
       "      <td>15 min - 1 hour</td>\n",
       "      <td>0.0</td>\n",
       "    </tr>\n",
       "    <tr>\n",
       "      <th>15</th>\n",
       "      <td>astropy__astropy-13236</td>\n",
       "      <td>1.0</td>\n",
       "      <td>0.0</td>\n",
       "      <td>15 min - 1 hour</td>\n",
       "      <td>0.0</td>\n",
       "    </tr>\n",
       "    <tr>\n",
       "      <th>18</th>\n",
       "      <td>astropy__astropy-13398</td>\n",
       "      <td>0.0</td>\n",
       "      <td>0.0</td>\n",
       "      <td>1-4 hours</td>\n",
       "      <td>0.0</td>\n",
       "    </tr>\n",
       "    <tr>\n",
       "      <th>20</th>\n",
       "      <td>astropy__astropy-13453</td>\n",
       "      <td>0.0</td>\n",
       "      <td>0.0</td>\n",
       "      <td>15 min - 1 hour</td>\n",
       "      <td>0.0</td>\n",
       "    </tr>\n",
       "    <tr>\n",
       "      <th>...</th>\n",
       "      <td>...</td>\n",
       "      <td>...</td>\n",
       "      <td>...</td>\n",
       "      <td>...</td>\n",
       "      <td>...</td>\n",
       "    </tr>\n",
       "    <tr>\n",
       "      <th>1688</th>\n",
       "      <td>sympy__sympy-24213</td>\n",
       "      <td>1.0</td>\n",
       "      <td>0.0</td>\n",
       "      <td>15 min - 1 hour</td>\n",
       "      <td>0.0</td>\n",
       "    </tr>\n",
       "    <tr>\n",
       "      <th>1692</th>\n",
       "      <td>sympy__sympy-24443</td>\n",
       "      <td>1.0</td>\n",
       "      <td>0.0</td>\n",
       "      <td>15 min - 1 hour</td>\n",
       "      <td>0.0</td>\n",
       "    </tr>\n",
       "    <tr>\n",
       "      <th>1694</th>\n",
       "      <td>sympy__sympy-24539</td>\n",
       "      <td>0.0</td>\n",
       "      <td>1.0</td>\n",
       "      <td>&lt;15 min fix</td>\n",
       "      <td>0.0</td>\n",
       "    </tr>\n",
       "    <tr>\n",
       "      <th>1695</th>\n",
       "      <td>sympy__sympy-24562</td>\n",
       "      <td>0.0</td>\n",
       "      <td>0.0</td>\n",
       "      <td>&lt;15 min fix</td>\n",
       "      <td>0.0</td>\n",
       "    </tr>\n",
       "    <tr>\n",
       "      <th>1696</th>\n",
       "      <td>sympy__sympy-24661</td>\n",
       "      <td>0.0</td>\n",
       "      <td>0.0</td>\n",
       "      <td>15 min - 1 hour</td>\n",
       "      <td>0.0</td>\n",
       "    </tr>\n",
       "  </tbody>\n",
       "</table>\n",
       "<p>500 rows × 5 columns</p>\n",
       "</div>"
      ],
      "text/plain": [
       "                 instance_id  underspecified  false_negative       difficulty  \\\n",
       "6     astropy__astropy-12907             1.0             0.0  15 min - 1 hour   \n",
       "9     astropy__astropy-13033             1.0             1.0  15 min - 1 hour   \n",
       "15    astropy__astropy-13236             1.0             0.0  15 min - 1 hour   \n",
       "18    astropy__astropy-13398             0.0             0.0        1-4 hours   \n",
       "20    astropy__astropy-13453             0.0             0.0  15 min - 1 hour   \n",
       "...                      ...             ...             ...              ...   \n",
       "1688      sympy__sympy-24213             1.0             0.0  15 min - 1 hour   \n",
       "1692      sympy__sympy-24443             1.0             0.0  15 min - 1 hour   \n",
       "1694      sympy__sympy-24539             0.0             1.0      <15 min fix   \n",
       "1695      sympy__sympy-24562             0.0             0.0      <15 min fix   \n",
       "1696      sympy__sympy-24661             0.0             0.0  15 min - 1 hour   \n",
       "\n",
       "      other_major_issues  \n",
       "6                    0.0  \n",
       "9                    0.0  \n",
       "15                   0.0  \n",
       "18                   0.0  \n",
       "20                   0.0  \n",
       "...                  ...  \n",
       "1688                 0.0  \n",
       "1692                 0.0  \n",
       "1694                 0.0  \n",
       "1695                 0.0  \n",
       "1696                 0.0  \n",
       "\n",
       "[500 rows x 5 columns]"
      ]
     },
     "execution_count": 13,
     "metadata": {},
     "output_type": "execute_result"
    }
   ],
   "source": [
    "ensembled_annotation_data[['instance_id','underspecified','false_negative', 'difficulty','other_major_issues']]"
   ]
  },
  {
   "cell_type": "markdown",
   "id": "b76e48a3c42f1d8",
   "metadata": {},
   "source": [
    "## Explore annotation data for SWE-Bench Verified samples"
   ]
  },
  {
   "cell_type": "markdown",
   "id": "3067ff4a92f079b3",
   "metadata": {},
   "source": [
    "## Collect resolution metadata\n",
    "\n",
    "We want to know which samples were solved by how many approaches and by which, we can take this into account when deciding how we construct the train-test splits."
   ]
  },
  {
   "cell_type": "code",
   "execution_count": 23,
   "id": "4e9fcf779106ab57",
   "metadata": {
    "ExecuteTime": {
     "end_time": "2024-11-13T09:18:53.912151Z",
     "start_time": "2024-11-13T09:18:53.910265Z"
    }
   },
   "outputs": [],
   "source": [
    "path_to_swe_bench_verified_experiments = '../overall-swe-bench-leaderboard-data/evaluation/verified'\n",
    "swe_bench_verified_resolution_data = []"
   ]
  },
  {
   "cell_type": "code",
   "execution_count": 24,
   "id": "c20a044d3433d265",
   "metadata": {
    "ExecuteTime": {
     "end_time": "2024-11-13T09:18:54.366469Z",
     "start_time": "2024-11-13T09:18:54.364684Z"
    }
   },
   "outputs": [],
   "source": [
    "for instance in swe_verified_tasks:\n",
    "    swe_bench_verified_resolution_data.append({'instance_id': instance, 'was_resolved': False, 'times_solved': 0, 'solved_by': [], 'unsolved_by': []})"
   ]
  },
  {
   "cell_type": "code",
   "execution_count": 25,
   "id": "140a15151e003c66",
   "metadata": {
    "ExecuteTime": {
     "end_time": "2024-11-13T09:18:54.700515Z",
     "start_time": "2024-11-13T09:18:54.698105Z"
    }
   },
   "outputs": [],
   "source": [
    "swe_bench_verified_resolution_data = pd.DataFrame(swe_bench_verified_resolution_data)"
   ]
  },
  {
   "cell_type": "code",
   "execution_count": 30,
   "id": "c4a6c9c3efa76741",
   "metadata": {
    "ExecuteTime": {
     "end_time": "2024-11-13T09:18:55.129273Z",
     "start_time": "2024-11-13T09:18:55.093477Z"
    }
   },
   "outputs": [],
   "source": [
    "for dirpath, dirnames, filenames in os.walk(path_to_swe_bench_verified_experiments):\n",
    "    if 'results' in dirpath:\n",
    "        # We are in the deepest subdirectory for this approach, the results are located here\n",
    "        approach_slug = dirpath.split('/')[-2]\n",
    "        \n",
    "        with open(os.path.join(dirpath, 'results.json'), 'r') as f:\n",
    "            results = json.loads(f.read())\n",
    "            resolved_instances = results['resolved']\n",
    "            swe_bench_verified_resolution_data.loc[swe_bench_verified_resolution_data['instance_id'].isin(resolved_instances), 'was_resolved'] = True\n",
    "            swe_bench_verified_resolution_data.loc[swe_bench_verified_resolution_data['instance_id'].isin(resolved_instances), 'times_solved'] += 1\n",
    "            swe_bench_verified_resolution_data.loc[swe_bench_verified_resolution_data['instance_id'].isin(resolved_instances), 'solved_by'].apply(lambda x: x.append(approach_slug))\n",
    "            swe_bench_verified_resolution_data.loc[~swe_bench_verified_resolution_data['instance_id'].isin(resolved_instances), 'unsolved_by'].apply(lambda x: x.append(approach_slug))"
   ]
  },
  {
   "cell_type": "markdown",
   "id": "a2255dc61f53c1e8",
   "metadata": {},
   "source": [
    "## Explore results and develop dataset splitting procedure"
   ]
  },
  {
   "cell_type": "code",
   "execution_count": 31,
   "id": "5d887e6fde00c384",
   "metadata": {
    "ExecuteTime": {
     "end_time": "2024-11-13T09:18:56.990669Z",
     "start_time": "2024-11-13T09:18:56.988427Z"
    }
   },
   "outputs": [],
   "source": [
    "swe_bench_verified_resolution_data = pd.DataFrame(swe_bench_verified_resolution_data)"
   ]
  },
  {
   "cell_type": "code",
   "execution_count": 32,
   "id": "759c9d9311d06169",
   "metadata": {
    "ExecuteTime": {
     "end_time": "2024-11-13T09:18:57.385848Z",
     "start_time": "2024-11-13T09:18:57.383073Z"
    }
   },
   "outputs": [
    {
     "data": {
      "text/plain": [
       "was_resolved\n",
       "True     390\n",
       "False    110\n",
       "Name: count, dtype: int64"
      ]
     },
     "execution_count": 32,
     "metadata": {},
     "output_type": "execute_result"
    }
   ],
   "source": [
    "swe_bench_verified_resolution_data.was_resolved.value_counts()"
   ]
  },
  {
   "cell_type": "code",
   "execution_count": 33,
   "id": "19f8f4e25f3f3021",
   "metadata": {
    "ExecuteTime": {
     "end_time": "2024-11-13T09:19:04.683154Z",
     "start_time": "2024-11-13T09:19:04.679979Z"
    }
   },
   "outputs": [
    {
     "data": {
      "text/plain": [
       "times_solved\n",
       "0     110\n",
       "1      31\n",
       "2      28\n",
       "4      25\n",
       "3      18\n",
       "21     16\n",
       "7      15\n",
       "27     15\n",
       "14     14\n",
       "15     14\n",
       "5      13\n",
       "10     13\n",
       "17     12\n",
       "8      12\n",
       "18     12\n",
       "19     12\n",
       "6      12\n",
       "12     11\n",
       "13     11\n",
       "26     11\n",
       "23     10\n",
       "30      9\n",
       "28      9\n",
       "31      9\n",
       "22      8\n",
       "11      8\n",
       "20      7\n",
       "29      7\n",
       "16      7\n",
       "25      7\n",
       "9       6\n",
       "24      6\n",
       "32      2\n",
       "Name: count, dtype: int64"
      ]
     },
     "execution_count": 33,
     "metadata": {},
     "output_type": "execute_result"
    }
   ],
   "source": [
    "swe_bench_verified_resolution_data.times_solved.value_counts()"
   ]
  },
  {
   "cell_type": "code",
   "execution_count": 34,
   "id": "c8615fea507de99",
   "metadata": {
    "ExecuteTime": {
     "end_time": "2024-11-13T09:19:07.993802Z",
     "start_time": "2024-11-13T09:19:07.980997Z"
    }
   },
   "outputs": [
    {
     "data": {
      "text/html": [
       "<div>\n",
       "<style scoped>\n",
       "    .dataframe tbody tr th:only-of-type {\n",
       "        vertical-align: middle;\n",
       "    }\n",
       "\n",
       "    .dataframe tbody tr th {\n",
       "        vertical-align: top;\n",
       "    }\n",
       "\n",
       "    .dataframe thead th {\n",
       "        text-align: right;\n",
       "    }\n",
       "</style>\n",
       "<table border=\"1\" class=\"dataframe\">\n",
       "  <thead>\n",
       "    <tr style=\"text-align: right;\">\n",
       "      <th></th>\n",
       "      <th>instance_id</th>\n",
       "      <th>was_resolved</th>\n",
       "      <th>times_solved</th>\n",
       "      <th>solved_by</th>\n",
       "      <th>unsolved_by</th>\n",
       "    </tr>\n",
       "  </thead>\n",
       "  <tbody>\n",
       "    <tr>\n",
       "      <th>2</th>\n",
       "      <td>astropy__astropy-13236</td>\n",
       "      <td>True</td>\n",
       "      <td>1</td>\n",
       "      <td>[20240824_gru]</td>\n",
       "      <td>[20231010_rag_claude2, 20231010_rag_gpt35, 202...</td>\n",
       "    </tr>\n",
       "    <tr>\n",
       "      <th>11</th>\n",
       "      <td>astropy__astropy-14369</td>\n",
       "      <td>True</td>\n",
       "      <td>1</td>\n",
       "      <td>[20241029_OpenHands-CodeAct-2.1-sonnet-20241022]</td>\n",
       "      <td>[20231010_rag_claude2, 20231010_rag_gpt35, 202...</td>\n",
       "    </tr>\n",
       "    <tr>\n",
       "      <th>14</th>\n",
       "      <td>astropy__astropy-14598</td>\n",
       "      <td>True</td>\n",
       "      <td>1</td>\n",
       "      <td>[20241029_OpenHands-CodeAct-2.1-sonnet-20241022]</td>\n",
       "      <td>[20231010_rag_claude2, 20231010_rag_gpt35, 202...</td>\n",
       "    </tr>\n",
       "    <tr>\n",
       "      <th>45</th>\n",
       "      <td>django__django-11299</td>\n",
       "      <td>True</td>\n",
       "      <td>1</td>\n",
       "      <td>[20241025_composio_swekit]</td>\n",
       "      <td>[20231010_rag_claude2, 20231010_rag_gpt35, 202...</td>\n",
       "    </tr>\n",
       "    <tr>\n",
       "      <th>77</th>\n",
       "      <td>django__django-12273</td>\n",
       "      <td>True</td>\n",
       "      <td>1</td>\n",
       "      <td>[20241025_composio_swekit]</td>\n",
       "      <td>[20231010_rag_claude2, 20231010_rag_gpt35, 202...</td>\n",
       "    </tr>\n",
       "    <tr>\n",
       "      <th>89</th>\n",
       "      <td>django__django-12774</td>\n",
       "      <td>True</td>\n",
       "      <td>1</td>\n",
       "      <td>[20240824_gru]</td>\n",
       "      <td>[20231010_rag_claude2, 20231010_rag_gpt35, 202...</td>\n",
       "    </tr>\n",
       "    <tr>\n",
       "      <th>98</th>\n",
       "      <td>django__django-13112</td>\n",
       "      <td>True</td>\n",
       "      <td>1</td>\n",
       "      <td>[20241022_tools_claude-3-5-sonnet-updated]</td>\n",
       "      <td>[20231010_rag_claude2, 20231010_rag_gpt35, 202...</td>\n",
       "    </tr>\n",
       "    <tr>\n",
       "      <th>112</th>\n",
       "      <td>django__django-13406</td>\n",
       "      <td>True</td>\n",
       "      <td>1</td>\n",
       "      <td>[20241029_OpenHands-CodeAct-2.1-sonnet-20241022]</td>\n",
       "      <td>[20231010_rag_claude2, 20231010_rag_gpt35, 202...</td>\n",
       "    </tr>\n",
       "    <tr>\n",
       "      <th>175</th>\n",
       "      <td>django__django-15037</td>\n",
       "      <td>True</td>\n",
       "      <td>1</td>\n",
       "      <td>[20241022_tools_claude-3-5-haiku]</td>\n",
       "      <td>[20231010_rag_claude2, 20231010_rag_gpt35, 202...</td>\n",
       "    </tr>\n",
       "    <tr>\n",
       "      <th>202</th>\n",
       "      <td>django__django-15695</td>\n",
       "      <td>True</td>\n",
       "      <td>1</td>\n",
       "      <td>[20241023_emergent]</td>\n",
       "      <td>[20231010_rag_claude2, 20231010_rag_gpt35, 202...</td>\n",
       "    </tr>\n",
       "    <tr>\n",
       "      <th>204</th>\n",
       "      <td>django__django-15732</td>\n",
       "      <td>True</td>\n",
       "      <td>1</td>\n",
       "      <td>[20241023_emergent]</td>\n",
       "      <td>[20231010_rag_claude2, 20231010_rag_gpt35, 202...</td>\n",
       "    </tr>\n",
       "    <tr>\n",
       "      <th>209</th>\n",
       "      <td>django__django-15916</td>\n",
       "      <td>True</td>\n",
       "      <td>1</td>\n",
       "      <td>[20241029_OpenHands-CodeAct-2.1-sonnet-20241022]</td>\n",
       "      <td>[20231010_rag_claude2, 20231010_rag_gpt35, 202...</td>\n",
       "    </tr>\n",
       "    <tr>\n",
       "      <th>232</th>\n",
       "      <td>django__django-16560</td>\n",
       "      <td>True</td>\n",
       "      <td>1</td>\n",
       "      <td>[20241022_tools_claude-3-5-haiku]</td>\n",
       "      <td>[20231010_rag_claude2, 20231010_rag_gpt35, 202...</td>\n",
       "    </tr>\n",
       "    <tr>\n",
       "      <th>246</th>\n",
       "      <td>django__django-16938</td>\n",
       "      <td>True</td>\n",
       "      <td>1</td>\n",
       "      <td>[20241023_emergent]</td>\n",
       "      <td>[20231010_rag_claude2, 20231010_rag_gpt35, 202...</td>\n",
       "    </tr>\n",
       "    <tr>\n",
       "      <th>254</th>\n",
       "      <td>matplotlib__matplotlib-14623</td>\n",
       "      <td>True</td>\n",
       "      <td>1</td>\n",
       "      <td>[20240920_solver]</td>\n",
       "      <td>[20231010_rag_claude2, 20231010_rag_gpt35, 202...</td>\n",
       "    </tr>\n",
       "    <tr>\n",
       "      <th>263</th>\n",
       "      <td>matplotlib__matplotlib-23299</td>\n",
       "      <td>True</td>\n",
       "      <td>1</td>\n",
       "      <td>[20240721_amazon-q-developer-agent-20240719-dev]</td>\n",
       "      <td>[20231010_rag_claude2, 20231010_rag_gpt35, 202...</td>\n",
       "    </tr>\n",
       "    <tr>\n",
       "      <th>266</th>\n",
       "      <td>matplotlib__matplotlib-23476</td>\n",
       "      <td>True</td>\n",
       "      <td>1</td>\n",
       "      <td>[20241028_solver]</td>\n",
       "      <td>[20231010_rag_claude2, 20231010_rag_gpt35, 202...</td>\n",
       "    </tr>\n",
       "    <tr>\n",
       "      <th>287</th>\n",
       "      <td>mwaskom__seaborn-3069</td>\n",
       "      <td>True</td>\n",
       "      <td>1</td>\n",
       "      <td>[20240924_solver]</td>\n",
       "      <td>[20231010_rag_claude2, 20231010_rag_gpt35, 202...</td>\n",
       "    </tr>\n",
       "    <tr>\n",
       "      <th>305</th>\n",
       "      <td>pydata__xarray-4094</td>\n",
       "      <td>True</td>\n",
       "      <td>1</td>\n",
       "      <td>[20241029_OpenHands-CodeAct-2.1-sonnet-20241022]</td>\n",
       "      <td>[20231010_rag_claude2, 20231010_rag_gpt35, 202...</td>\n",
       "    </tr>\n",
       "    <tr>\n",
       "      <th>309</th>\n",
       "      <td>pydata__xarray-4695</td>\n",
       "      <td>True</td>\n",
       "      <td>1</td>\n",
       "      <td>[20241022_tools_claude-3-5-sonnet-updated]</td>\n",
       "      <td>[20231010_rag_claude2, 20231010_rag_gpt35, 202...</td>\n",
       "    </tr>\n",
       "    <tr>\n",
       "      <th>329</th>\n",
       "      <td>pylint-dev__pylint-8898</td>\n",
       "      <td>True</td>\n",
       "      <td>1</td>\n",
       "      <td>[20241029_epam-ai-run-claude-3-5-sonnet]</td>\n",
       "      <td>[20231010_rag_claude2, 20231010_rag_gpt35, 202...</td>\n",
       "    </tr>\n",
       "    <tr>\n",
       "      <th>375</th>\n",
       "      <td>scikit-learn__scikit-learn-25747</td>\n",
       "      <td>True</td>\n",
       "      <td>1</td>\n",
       "      <td>[20241025_composio_swekit]</td>\n",
       "      <td>[20231010_rag_claude2, 20231010_rag_gpt35, 202...</td>\n",
       "    </tr>\n",
       "    <tr>\n",
       "      <th>381</th>\n",
       "      <td>sphinx-doc__sphinx-10323</td>\n",
       "      <td>True</td>\n",
       "      <td>1</td>\n",
       "      <td>[20240824_gru]</td>\n",
       "      <td>[20231010_rag_claude2, 20231010_rag_gpt35, 202...</td>\n",
       "    </tr>\n",
       "    <tr>\n",
       "      <th>397</th>\n",
       "      <td>sphinx-doc__sphinx-7985</td>\n",
       "      <td>True</td>\n",
       "      <td>1</td>\n",
       "      <td>[20241022_tools_claude-3-5-sonnet-updated]</td>\n",
       "      <td>[20231010_rag_claude2, 20231010_rag_gpt35, 202...</td>\n",
       "    </tr>\n",
       "    <tr>\n",
       "      <th>407</th>\n",
       "      <td>sphinx-doc__sphinx-8593</td>\n",
       "      <td>True</td>\n",
       "      <td>1</td>\n",
       "      <td>[20241029_OpenHands-CodeAct-2.1-sonnet-20241022]</td>\n",
       "      <td>[20231010_rag_claude2, 20231010_rag_gpt35, 202...</td>\n",
       "    </tr>\n",
       "    <tr>\n",
       "      <th>413</th>\n",
       "      <td>sphinx-doc__sphinx-9230</td>\n",
       "      <td>True</td>\n",
       "      <td>1</td>\n",
       "      <td>[20241029_OpenHands-CodeAct-2.1-sonnet-20241022]</td>\n",
       "      <td>[20231010_rag_claude2, 20231010_rag_gpt35, 202...</td>\n",
       "    </tr>\n",
       "    <tr>\n",
       "      <th>414</th>\n",
       "      <td>sphinx-doc__sphinx-9258</td>\n",
       "      <td>True</td>\n",
       "      <td>1</td>\n",
       "      <td>[20241029_OpenHands-CodeAct-2.1-sonnet-20241022]</td>\n",
       "      <td>[20231010_rag_claude2, 20231010_rag_gpt35, 202...</td>\n",
       "    </tr>\n",
       "    <tr>\n",
       "      <th>435</th>\n",
       "      <td>sympy__sympy-13615</td>\n",
       "      <td>True</td>\n",
       "      <td>1</td>\n",
       "      <td>[20240820_honeycomb]</td>\n",
       "      <td>[20231010_rag_claude2, 20231010_rag_gpt35, 202...</td>\n",
       "    </tr>\n",
       "    <tr>\n",
       "      <th>438</th>\n",
       "      <td>sympy__sympy-13798</td>\n",
       "      <td>True</td>\n",
       "      <td>1</td>\n",
       "      <td>[20240402_sweagent_gpt4]</td>\n",
       "      <td>[20231010_rag_claude2, 20231010_rag_gpt35, 202...</td>\n",
       "    </tr>\n",
       "    <tr>\n",
       "      <th>442</th>\n",
       "      <td>sympy__sympy-13974</td>\n",
       "      <td>True</td>\n",
       "      <td>1</td>\n",
       "      <td>[20240617_factory_code_droid]</td>\n",
       "      <td>[20231010_rag_claude2, 20231010_rag_gpt35, 202...</td>\n",
       "    </tr>\n",
       "    <tr>\n",
       "      <th>468</th>\n",
       "      <td>sympy__sympy-19040</td>\n",
       "      <td>True</td>\n",
       "      <td>1</td>\n",
       "      <td>[20241028_agentless-1.5_gpt4o]</td>\n",
       "      <td>[20231010_rag_claude2, 20231010_rag_gpt35, 202...</td>\n",
       "    </tr>\n",
       "  </tbody>\n",
       "</table>\n",
       "</div>"
      ],
      "text/plain": [
       "                          instance_id  was_resolved  times_solved  \\\n",
       "2              astropy__astropy-13236          True             1   \n",
       "11             astropy__astropy-14369          True             1   \n",
       "14             astropy__astropy-14598          True             1   \n",
       "45               django__django-11299          True             1   \n",
       "77               django__django-12273          True             1   \n",
       "89               django__django-12774          True             1   \n",
       "98               django__django-13112          True             1   \n",
       "112              django__django-13406          True             1   \n",
       "175              django__django-15037          True             1   \n",
       "202              django__django-15695          True             1   \n",
       "204              django__django-15732          True             1   \n",
       "209              django__django-15916          True             1   \n",
       "232              django__django-16560          True             1   \n",
       "246              django__django-16938          True             1   \n",
       "254      matplotlib__matplotlib-14623          True             1   \n",
       "263      matplotlib__matplotlib-23299          True             1   \n",
       "266      matplotlib__matplotlib-23476          True             1   \n",
       "287             mwaskom__seaborn-3069          True             1   \n",
       "305               pydata__xarray-4094          True             1   \n",
       "309               pydata__xarray-4695          True             1   \n",
       "329           pylint-dev__pylint-8898          True             1   \n",
       "375  scikit-learn__scikit-learn-25747          True             1   \n",
       "381          sphinx-doc__sphinx-10323          True             1   \n",
       "397           sphinx-doc__sphinx-7985          True             1   \n",
       "407           sphinx-doc__sphinx-8593          True             1   \n",
       "413           sphinx-doc__sphinx-9230          True             1   \n",
       "414           sphinx-doc__sphinx-9258          True             1   \n",
       "435                sympy__sympy-13615          True             1   \n",
       "438                sympy__sympy-13798          True             1   \n",
       "442                sympy__sympy-13974          True             1   \n",
       "468                sympy__sympy-19040          True             1   \n",
       "\n",
       "                                            solved_by  \\\n",
       "2                                      [20240824_gru]   \n",
       "11   [20241029_OpenHands-CodeAct-2.1-sonnet-20241022]   \n",
       "14   [20241029_OpenHands-CodeAct-2.1-sonnet-20241022]   \n",
       "45                         [20241025_composio_swekit]   \n",
       "77                         [20241025_composio_swekit]   \n",
       "89                                     [20240824_gru]   \n",
       "98         [20241022_tools_claude-3-5-sonnet-updated]   \n",
       "112  [20241029_OpenHands-CodeAct-2.1-sonnet-20241022]   \n",
       "175                 [20241022_tools_claude-3-5-haiku]   \n",
       "202                               [20241023_emergent]   \n",
       "204                               [20241023_emergent]   \n",
       "209  [20241029_OpenHands-CodeAct-2.1-sonnet-20241022]   \n",
       "232                 [20241022_tools_claude-3-5-haiku]   \n",
       "246                               [20241023_emergent]   \n",
       "254                                 [20240920_solver]   \n",
       "263  [20240721_amazon-q-developer-agent-20240719-dev]   \n",
       "266                                 [20241028_solver]   \n",
       "287                                 [20240924_solver]   \n",
       "305  [20241029_OpenHands-CodeAct-2.1-sonnet-20241022]   \n",
       "309        [20241022_tools_claude-3-5-sonnet-updated]   \n",
       "329          [20241029_epam-ai-run-claude-3-5-sonnet]   \n",
       "375                        [20241025_composio_swekit]   \n",
       "381                                    [20240824_gru]   \n",
       "397        [20241022_tools_claude-3-5-sonnet-updated]   \n",
       "407  [20241029_OpenHands-CodeAct-2.1-sonnet-20241022]   \n",
       "413  [20241029_OpenHands-CodeAct-2.1-sonnet-20241022]   \n",
       "414  [20241029_OpenHands-CodeAct-2.1-sonnet-20241022]   \n",
       "435                              [20240820_honeycomb]   \n",
       "438                          [20240402_sweagent_gpt4]   \n",
       "442                     [20240617_factory_code_droid]   \n",
       "468                    [20241028_agentless-1.5_gpt4o]   \n",
       "\n",
       "                                           unsolved_by  \n",
       "2    [20231010_rag_claude2, 20231010_rag_gpt35, 202...  \n",
       "11   [20231010_rag_claude2, 20231010_rag_gpt35, 202...  \n",
       "14   [20231010_rag_claude2, 20231010_rag_gpt35, 202...  \n",
       "45   [20231010_rag_claude2, 20231010_rag_gpt35, 202...  \n",
       "77   [20231010_rag_claude2, 20231010_rag_gpt35, 202...  \n",
       "89   [20231010_rag_claude2, 20231010_rag_gpt35, 202...  \n",
       "98   [20231010_rag_claude2, 20231010_rag_gpt35, 202...  \n",
       "112  [20231010_rag_claude2, 20231010_rag_gpt35, 202...  \n",
       "175  [20231010_rag_claude2, 20231010_rag_gpt35, 202...  \n",
       "202  [20231010_rag_claude2, 20231010_rag_gpt35, 202...  \n",
       "204  [20231010_rag_claude2, 20231010_rag_gpt35, 202...  \n",
       "209  [20231010_rag_claude2, 20231010_rag_gpt35, 202...  \n",
       "232  [20231010_rag_claude2, 20231010_rag_gpt35, 202...  \n",
       "246  [20231010_rag_claude2, 20231010_rag_gpt35, 202...  \n",
       "254  [20231010_rag_claude2, 20231010_rag_gpt35, 202...  \n",
       "263  [20231010_rag_claude2, 20231010_rag_gpt35, 202...  \n",
       "266  [20231010_rag_claude2, 20231010_rag_gpt35, 202...  \n",
       "287  [20231010_rag_claude2, 20231010_rag_gpt35, 202...  \n",
       "305  [20231010_rag_claude2, 20231010_rag_gpt35, 202...  \n",
       "309  [20231010_rag_claude2, 20231010_rag_gpt35, 202...  \n",
       "329  [20231010_rag_claude2, 20231010_rag_gpt35, 202...  \n",
       "375  [20231010_rag_claude2, 20231010_rag_gpt35, 202...  \n",
       "381  [20231010_rag_claude2, 20231010_rag_gpt35, 202...  \n",
       "397  [20231010_rag_claude2, 20231010_rag_gpt35, 202...  \n",
       "407  [20231010_rag_claude2, 20231010_rag_gpt35, 202...  \n",
       "413  [20231010_rag_claude2, 20231010_rag_gpt35, 202...  \n",
       "414  [20231010_rag_claude2, 20231010_rag_gpt35, 202...  \n",
       "435  [20231010_rag_claude2, 20231010_rag_gpt35, 202...  \n",
       "438  [20231010_rag_claude2, 20231010_rag_gpt35, 202...  \n",
       "442  [20231010_rag_claude2, 20231010_rag_gpt35, 202...  \n",
       "468  [20231010_rag_claude2, 20231010_rag_gpt35, 202...  "
      ]
     },
     "execution_count": 34,
     "metadata": {},
     "output_type": "execute_result"
    }
   ],
   "source": [
    "swe_bench_verified_resolution_data[swe_bench_verified_resolution_data['times_solved'] == 1]"
   ]
  },
  {
   "cell_type": "code",
   "execution_count": 35,
   "id": "2bfdb4277e4c3685",
   "metadata": {
    "ExecuteTime": {
     "end_time": "2024-11-13T09:19:10.374077Z",
     "start_time": "2024-11-13T09:19:10.369356Z"
    }
   },
   "outputs": [],
   "source": [
    "swe_bench_verified = pd.merge(ensembled_annotation_data, swe_bench_verified_resolution_data, on='instance_id', how='inner')"
   ]
  },
  {
   "cell_type": "markdown",
   "id": "33fb1c58",
   "metadata": {},
   "source": [
    "# Remove broken repositories\n",
    "While experimenting with the setup and evaluation we realized (and validated with the authors of ACR) that the environment setup of the `astropy` repository is broken. Upon further investigation we realized that the setup for `pydata/xarray` is also broken. We also noticed errors in the parsing of the test output of `pylint`. We have thus decided to pivot our study towards a feasibility study and will remove these repositories from the dataset."
   ]
  },
  {
   "cell_type": "code",
   "execution_count": 37,
   "id": "6e43a5cb",
   "metadata": {},
   "outputs": [],
   "source": [
    "swe_bench_verified = pd.read_json('../data/swe_bench_verified_resolution_data.json')"
   ]
  },
  {
   "cell_type": "markdown",
   "id": "08ba2731",
   "metadata": {},
   "source": [
    "### What is the difficulty of the samples we remove wrt the rest of the dataset?\n",
    "\n",
    "Are we skewing our difficulty distribution in one way or the other by removing these samples?"
   ]
  },
  {
   "cell_type": "code",
   "execution_count": 38,
   "id": "23a45b4a",
   "metadata": {},
   "outputs": [
    {
     "data": {
      "text/plain": [
       "count    0.0\n",
       "mean     NaN\n",
       "std      NaN\n",
       "min      NaN\n",
       "25%      NaN\n",
       "50%      NaN\n",
       "75%      NaN\n",
       "max      NaN\n",
       "Name: empiric_difficulty, dtype: float64"
      ]
     },
     "execution_count": 38,
     "metadata": {},
     "output_type": "execute_result"
    }
   ],
   "source": [
    "swe_bench_verified[(swe_bench_verified['instance_id'].str.contains('xarray') | swe_bench_verified['instance_id'].str.contains('astropy') | swe_bench_verified['instance_id'].str.contains('pylint'))].empiric_difficulty.describe()"
   ]
  },
  {
   "cell_type": "code",
   "execution_count": null,
   "id": "39b1e972",
   "metadata": {},
   "outputs": [
    {
     "data": {
      "text/plain": [
       "count    446.000000\n",
       "mean       0.702399\n",
       "std        0.279464\n",
       "min        0.110000\n",
       "25%        0.470000\n",
       "50%        0.780000\n",
       "75%        0.970000\n",
       "max        1.000000\n",
       "Name: empiric_difficulty, dtype: float64"
      ]
     },
     "metadata": {},
     "output_type": "display_data"
    }
   ],
   "source": [
    "swe_bench_verified[~(swe_bench_verified['instance_id'].str.contains('xarray') | swe_bench_verified['instance_id'].str.contains('astropy') | swe_bench_verified['instance_id'].str.contains('pylint'))].empiric_difficulty.describe()"
   ]
  },
  {
   "cell_type": "markdown",
   "id": "6625e5aa",
   "metadata": {},
   "source": [
    "In terms of empiric difficulty, we are making our dataset easier. The samples of the problematic repositories have a median empiric difficulty of 0.86, compared to the median empiric difficulty of 0.78 of the remaining dataset. This is important to keep in mind when drawing conclusions about the potential of our methodology."
   ]
  },
  {
   "cell_type": "code",
   "execution_count": null,
   "id": "d7f541b9",
   "metadata": {},
   "outputs": [
    {
     "data": {
      "text/plain": [
       "difficulty\n",
       "15 min - 1 hour    0.648148\n",
       "<15 min fix        0.222222\n",
       "1-4 hours          0.111111\n",
       ">4 hours           0.018519\n",
       "Name: proportion, dtype: float64"
      ]
     },
     "metadata": {},
     "output_type": "display_data"
    }
   ],
   "source": [
    "swe_bench_verified[(swe_bench_verified['instance_id'].str.contains('xarray') | swe_bench_verified['instance_id'].str.contains('astropy') | swe_bench_verified['instance_id'].str.contains('pylint'))].difficulty.value_counts(normalize=True)"
   ]
  },
  {
   "cell_type": "code",
   "execution_count": null,
   "id": "fe91db48",
   "metadata": {},
   "outputs": [
    {
     "data": {
      "text/plain": [
       "difficulty\n",
       "15 min - 1 hour    0.506726\n",
       "<15 min fix        0.408072\n",
       "1-4 hours          0.080717\n",
       ">4 hours           0.004484\n",
       "Name: proportion, dtype: float64"
      ]
     },
     "metadata": {},
     "output_type": "display_data"
    }
   ],
   "source": [
    "swe_bench_verified[~(swe_bench_verified['instance_id'].str.contains('xarray') | swe_bench_verified['instance_id'].str.contains('astropy') | swe_bench_verified['instance_id'].str.contains('pylint'))].difficulty.value_counts(normalize=True)"
   ]
  },
  {
   "cell_type": "code",
   "execution_count": null,
   "id": "328a43e2",
   "metadata": {},
   "outputs": [],
   "source": [
    "swe_bench_verified = swe_bench_verified[~(swe_bench_verified['instance_id'].str.contains('xarray') | swe_bench_verified['instance_id'].str.contains('astropy') | swe_bench_verified['instance_id'].str.contains('pylint'))]"
   ]
  },
  {
   "cell_type": "markdown",
   "id": "b057163611800a69",
   "metadata": {},
   "source": [
    "### Are `false_negative` samples empirically more difficult?"
   ]
  },
  {
   "cell_type": "code",
   "execution_count": 40,
   "id": "1fec664b0e225fc6",
   "metadata": {
    "ExecuteTime": {
     "end_time": "2024-11-13T09:19:13.595833Z",
     "start_time": "2024-11-13T09:19:13.592818Z"
    }
   },
   "outputs": [
    {
     "data": {
      "text/plain": [
       "solved_by\n",
       "False    347\n",
       "True      99\n",
       "Name: count, dtype: int64"
      ]
     },
     "execution_count": 40,
     "metadata": {},
     "output_type": "execute_result"
    }
   ],
   "source": [
    "swe_bench_verified['solved_by'].apply(lambda x: len(x) == 0).value_counts()"
   ]
  },
  {
   "cell_type": "code",
   "execution_count": 37,
   "id": "3d3127547505f316",
   "metadata": {
    "ExecuteTime": {
     "end_time": "2024-11-13T09:19:14.885749Z",
     "start_time": "2024-11-13T09:19:14.883467Z"
    }
   },
   "outputs": [
    {
     "data": {
      "text/plain": [
       "0.78"
      ]
     },
     "execution_count": 37,
     "metadata": {},
     "output_type": "execute_result"
    }
   ],
   "source": [
    "390/500"
   ]
  },
  {
   "cell_type": "markdown",
   "id": "3a88cf7e991758f5",
   "metadata": {},
   "source": [
    "A surprising by, product here, is that ~78% of samples in SWE-Bench Verified were solved by at least one system. However, the top resolution rate as of 5.11.24 is OpenHands+CodeAct with 53%. So there is something of a 25% gain just lying around."
   ]
  },
  {
   "cell_type": "code",
   "execution_count": 41,
   "id": "5f781623df3d6429",
   "metadata": {
    "ExecuteTime": {
     "end_time": "2024-11-13T09:19:16.457660Z",
     "start_time": "2024-11-13T09:19:16.453715Z"
    }
   },
   "outputs": [
    {
     "data": {
      "text/plain": [
       "solved_by\n",
       "True     121\n",
       "False     54\n",
       "Name: count, dtype: int64"
      ]
     },
     "execution_count": 41,
     "metadata": {},
     "output_type": "execute_result"
    }
   ],
   "source": [
    "swe_bench_verified[swe_bench_verified['false_negative'] == 1]['solved_by'].apply(lambda x: len(x) > 0).value_counts()"
   ]
  },
  {
   "cell_type": "code",
   "execution_count": 42,
   "id": "64178b39ae0d2964",
   "metadata": {
    "ExecuteTime": {
     "end_time": "2024-11-13T09:19:17.493643Z",
     "start_time": "2024-11-13T09:19:17.491264Z"
    }
   },
   "outputs": [
    {
     "data": {
      "text/plain": [
       "0.4462809917355372"
      ]
     },
     "execution_count": 42,
     "metadata": {},
     "output_type": "execute_result"
    }
   ],
   "source": [
    "54/121"
   ]
  },
  {
   "cell_type": "code",
   "execution_count": 43,
   "id": "ca9687443d190ea2",
   "metadata": {
    "ExecuteTime": {
     "end_time": "2024-11-13T09:19:19.238010Z",
     "start_time": "2024-11-13T09:19:19.234614Z"
    }
   },
   "outputs": [
    {
     "data": {
      "text/plain": [
       "solved_by\n",
       "True     226\n",
       "False     45\n",
       "Name: count, dtype: int64"
      ]
     },
     "execution_count": 43,
     "metadata": {},
     "output_type": "execute_result"
    }
   ],
   "source": [
    "swe_bench_verified[swe_bench_verified['false_negative'] == 0]['solved_by'].apply(lambda x: len(x) > 0).value_counts()"
   ]
  },
  {
   "cell_type": "code",
   "execution_count": 44,
   "id": "d15a6470226002ee",
   "metadata": {
    "ExecuteTime": {
     "end_time": "2024-11-13T09:19:20.152217Z",
     "start_time": "2024-11-13T09:19:20.149646Z"
    }
   },
   "outputs": [
    {
     "data": {
      "text/plain": [
       "0.19911504424778761"
      ]
     },
     "execution_count": 44,
     "metadata": {},
     "output_type": "execute_result"
    }
   ],
   "source": [
    "45/226"
   ]
  },
  {
   "cell_type": "markdown",
   "id": "99b605bd12231e49",
   "metadata": {},
   "source": [
    "It does seem like samples that have well-specified tests that cover every possible solution are ~25% points more likely to be correctly resolved. To ensure this isnt confounded by difficulty, let's also correct for this."
   ]
  },
  {
   "cell_type": "code",
   "execution_count": 45,
   "id": "c9e5cec92eb20696",
   "metadata": {
    "ExecuteTime": {
     "end_time": "2024-11-13T09:19:21.164938Z",
     "start_time": "2024-11-13T09:19:21.158077Z"
    }
   },
   "outputs": [
    {
     "name": "stdout",
     "output_type": "stream",
     "text": [
      "For difficulty level \"<15 min fix and 182 samples within this category:\"\n",
      "\tfor well-specified tests (false_negative == 0) the ratio of unresolved to resolved samples is: 0.09\"\n",
      "\tfor ambiguous tests (false_negative == 1) the ratio of unresolved to resolved samples is: 0.14\"\n",
      "\n",
      "\n",
      "For difficulty level \"1-4 hours and 36 samples within this category:\"\n",
      "\tfor well-specified tests (false_negative == 0) the ratio of unresolved to resolved samples is: 0.29\"\n",
      "\tfor ambiguous tests (false_negative == 1) the ratio of unresolved to resolved samples is: 0.42\"\n",
      "\n",
      "\n",
      "For difficulty level \"15 min - 1 hour and 226 samples within this category:\"\n",
      "\tfor well-specified tests (false_negative == 0) the ratio of unresolved to resolved samples is: 0.26\"\n",
      "\tfor ambiguous tests (false_negative == 1) the ratio of unresolved to resolved samples is: 0.41\"\n",
      "\n",
      "\n",
      "For difficulty level \">4 hours and 2 samples within this category:\"\n",
      "\tfor well-specified tests (false_negative == 0) the ratio of unresolved to resolved samples is: 1.0\"\n",
      "\tfor ambiguous tests (false_negative == 1) the ratio of unresolved to resolved samples is: N/A\"\n",
      "\n",
      "\n"
     ]
    }
   ],
   "source": [
    "for difficulty_level in swe_bench_verified.difficulty.unique():\n",
    "    value_counts_for_well_specified_tests = swe_bench_verified[(swe_bench_verified['false_negative'] == 0) & (swe_bench_verified['difficulty'] == difficulty_level)]['solved_by'].apply(lambda x: len(x) > 0).value_counts()\n",
    "    \n",
    "    value_counts_for_ambiguous_tests = swe_bench_verified[(swe_bench_verified['false_negative'] == 1) & (swe_bench_verified['difficulty'] == difficulty_level)]['solved_by'].apply(lambda x: len(x) > 0).value_counts()\n",
    "    \n",
    "    ratio_well_defined = 'N/A' if len(value_counts_for_well_specified_tests) == 0 else round(value_counts_for_well_specified_tests.iloc[1]/value_counts_for_well_specified_tests.iloc[0], 2)\n",
    "    ratio_ambiguous = 'N/A' if len(value_counts_for_ambiguous_tests) == 0 else round(value_counts_for_ambiguous_tests.iloc[1]/value_counts_for_ambiguous_tests.iloc[0], 2)\n",
    "    \n",
    "    print(f'For difficulty level \"{difficulty_level} and {len(swe_bench_verified[swe_bench_verified[\"difficulty\"] == difficulty_level])} samples within this category:\"\\n'\n",
    "          f'\\tfor well-specified tests (false_negative == 0) the ratio of unresolved to resolved samples is: {ratio_well_defined}\"\\n'\n",
    "          f'\\tfor ambiguous tests (false_negative == 1) the ratio of unresolved to resolved samples is: {ratio_ambiguous}\"\\n\\n')"
   ]
  },
  {
   "cell_type": "markdown",
   "id": "c2631bad40614b7",
   "metadata": {},
   "source": [
    "Let's see if the effect of the test ambiguity on sample resolution rate is statistically significant."
   ]
  },
  {
   "cell_type": "code",
   "execution_count": 46,
   "id": "7c40af50713a098a",
   "metadata": {
    "ExecuteTime": {
     "end_time": "2024-11-13T09:19:23.128176Z",
     "start_time": "2024-11-13T09:19:23.124800Z"
    }
   },
   "outputs": [
    {
     "data": {
      "text/plain": [
       "Chi2ContingencyResult(statistic=np.float64(11.694642140567893), pvalue=np.float64(0.0006268032380362891), dof=1, expected_freq=array([[210.84529148,  60.15470852],\n",
       "       [136.15470852,  38.84529148]]))"
      ]
     },
     "execution_count": 46,
     "metadata": {},
     "output_type": "execute_result"
    }
   ],
   "source": [
    "chi2_contingency(np.array([[226, 45], [121, 54]]))"
   ]
  },
  {
   "cell_type": "markdown",
   "id": "f5482bcd196bc2d6",
   "metadata": {},
   "source": [
    "Thus our findings are significant at alpha=0.01 and we will include this feature in our considerations for re-shuffling data."
   ]
  },
  {
   "cell_type": "markdown",
   "id": "9e954425997b3d93",
   "metadata": {},
   "source": [
    "### Does `difficulty` in samples impact resolution rate?"
   ]
  },
  {
   "cell_type": "code",
   "execution_count": 47,
   "id": "29d60f1626c40e25",
   "metadata": {
    "ExecuteTime": {
     "end_time": "2024-11-13T09:20:35.561543Z",
     "start_time": "2024-11-13T09:20:35.556623Z"
    }
   },
   "outputs": [
    {
     "data": {
      "text/plain": [
       "Chi2ContingencyResult(statistic=np.float64(18.515431103941218), pvalue=np.float64(0.0003442937766232185), dof=3, expected_freq=array([[148.13004484,  33.86995516],\n",
       "       [ 29.30044843,   6.69955157],\n",
       "       [183.94170404,  42.05829596],\n",
       "       [  1.62780269,   0.37219731]]))"
      ]
     },
     "execution_count": 47,
     "metadata": {},
     "output_type": "execute_result"
    }
   ],
   "source": [
    "f_observed = []\n",
    "for difficulty_level in swe_bench_verified.difficulty.unique():\n",
    "    value_counts = swe_bench_verified[swe_bench_verified['difficulty'] == difficulty_level]['solved_by'].apply(lambda x: len(x) > 0).value_counts()\n",
    "    f_observed.append([value_counts.iloc[0], value_counts.iloc[1]])\n",
    "    \n",
    "f_observed = np.array(f_observed)\n",
    "chi2_contingency(f_observed)"
   ]
  },
  {
   "cell_type": "markdown",
   "id": "26f3023af56ea15c",
   "metadata": {},
   "source": [
    "This is also statistically significant at alpha=0.01."
   ]
  },
  {
   "cell_type": "markdown",
   "id": "7f6a487b0fe5833",
   "metadata": {},
   "source": [
    "### Are `underspecified` samples empirically more difficult?"
   ]
  },
  {
   "cell_type": "code",
   "execution_count": 48,
   "id": "17d7d2bcdfc3c33a",
   "metadata": {
    "ExecuteTime": {
     "end_time": "2024-11-13T09:21:07.219707Z",
     "start_time": "2024-11-13T09:21:07.215186Z"
    }
   },
   "outputs": [
    {
     "data": {
      "text/plain": [
       "Chi2ContingencyResult(statistic=np.float64(0.23294976522886401), pvalue=np.float64(0.6293451957153475), dof=1, expected_freq=array([[163.38565022,  46.61434978],\n",
       "       [183.61434978,  52.38565022]]))"
      ]
     },
     "execution_count": 48,
     "metadata": {},
     "output_type": "execute_result"
    }
   ],
   "source": [
    "f_observed = []\n",
    "for difficulty_level in swe_bench_verified.underspecified.unique():\n",
    "    value_counts = swe_bench_verified[swe_bench_verified['underspecified'] == difficulty_level]['solved_by'].apply(lambda x: len(x) > 0).value_counts()\n",
    "    f_observed.append([value_counts.iloc[0], value_counts.iloc[1]])\n",
    "    \n",
    "f_observed = np.array(f_observed)\n",
    "chi2_contingency(f_observed)"
   ]
  },
  {
   "cell_type": "code",
   "execution_count": 46,
   "id": "4e3053a0307ddc69",
   "metadata": {
    "ExecuteTime": {
     "end_time": "2024-11-13T09:21:09.934607Z",
     "start_time": "2024-11-13T09:21:09.930770Z"
    }
   },
   "outputs": [
    {
     "data": {
      "text/plain": [
       "solved_by\n",
       "True     201\n",
       "False     61\n",
       "Name: count, dtype: int64"
      ]
     },
     "execution_count": 46,
     "metadata": {},
     "output_type": "execute_result"
    }
   ],
   "source": [
    "swe_bench_verified[swe_bench_verified['underspecified'] == 1]['solved_by'].apply(lambda x: len(x) > 0).value_counts()"
   ]
  },
  {
   "cell_type": "code",
   "execution_count": 47,
   "id": "e766e7f6cedce089",
   "metadata": {
    "ExecuteTime": {
     "end_time": "2024-11-13T09:21:12.991907Z",
     "start_time": "2024-11-13T09:21:12.989513Z"
    }
   },
   "outputs": [
    {
     "data": {
      "text/plain": [
       "0.3034825870646766"
      ]
     },
     "execution_count": 47,
     "metadata": {},
     "output_type": "execute_result"
    }
   ],
   "source": [
    "61/201"
   ]
  },
  {
   "cell_type": "code",
   "execution_count": 48,
   "id": "d4205f58026adfe1",
   "metadata": {
    "ExecuteTime": {
     "end_time": "2024-11-13T09:21:13.406296Z",
     "start_time": "2024-11-13T09:21:13.402929Z"
    }
   },
   "outputs": [
    {
     "data": {
      "text/plain": [
       "solved_by\n",
       "True     189\n",
       "False     49\n",
       "Name: count, dtype: int64"
      ]
     },
     "execution_count": 48,
     "metadata": {},
     "output_type": "execute_result"
    }
   ],
   "source": [
    "swe_bench_verified[swe_bench_verified['underspecified'] == 0]['solved_by'].apply(lambda x: len(x) > 0).value_counts()"
   ]
  },
  {
   "cell_type": "code",
   "execution_count": 49,
   "id": "81e18fe946a3c388",
   "metadata": {
    "ExecuteTime": {
     "end_time": "2024-11-13T09:21:14.754430Z",
     "start_time": "2024-11-13T09:21:14.751849Z"
    }
   },
   "outputs": [
    {
     "data": {
      "text/plain": [
       "0.25925925925925924"
      ]
     },
     "execution_count": 49,
     "metadata": {},
     "output_type": "execute_result"
    }
   ],
   "source": [
    "49/189"
   ]
  },
  {
   "cell_type": "markdown",
   "id": "26ecbdb84a461733",
   "metadata": {},
   "source": [
    "### Computing `empiric_difficulty` \n",
    "\n",
    "We define empiric difficulty as the inverse ratio of agents that have solved a sample over the amount of agents competing on SWE-Bench. This way samples that were solved by all agents have an `empiric_difficulty` of 0 and unsolved samples have an `empiric_difficulty` of 1."
   ]
  },
  {
   "cell_type": "code",
   "execution_count": 49,
   "id": "a787b1d1ead82c55",
   "metadata": {
    "ExecuteTime": {
     "end_time": "2024-11-13T09:21:33.318594Z",
     "start_time": "2024-11-13T09:21:33.316324Z"
    }
   },
   "outputs": [],
   "source": [
    "number_of_competing_agents = len(swe_bench_verified.loc[0, 'solved_by'] + swe_bench_verified.loc[0, 'unsolved_by'])"
   ]
  },
  {
   "cell_type": "code",
   "execution_count": 50,
   "id": "4fe2e8e5e48b2942",
   "metadata": {
    "ExecuteTime": {
     "end_time": "2024-11-13T09:21:35.401779Z",
     "start_time": "2024-11-13T09:21:35.399316Z"
    }
   },
   "outputs": [],
   "source": [
    "swe_bench_verified['empiric_difficulty'] = round(1-(swe_bench_verified['times_solved']/number_of_competing_agents),2) # Round to be able to compare (otherwise trailing float differences make it hard)"
   ]
  },
  {
   "cell_type": "markdown",
   "id": "3292a18ff992e473",
   "metadata": {},
   "source": [
    "How do `empiric_difficulty` and `difficulty` co-occur?"
   ]
  },
  {
   "cell_type": "code",
   "execution_count": 55,
   "id": "78d0f90c232c33e2",
   "metadata": {
    "ExecuteTime": {
     "end_time": "2024-11-13T09:21:39.647850Z",
     "start_time": "2024-11-13T09:21:39.644943Z"
    }
   },
   "outputs": [],
   "source": [
    "mapping = {\n",
    "    '<15 min fix': 0,\n",
    "    '15 min - 1 hour': 1,\n",
    "    '1-4 hours': 2,\n",
    "    '>4 hours': 3\n",
    "}\n",
    "swe_bench_verified['difficulty_encoded'] = swe_bench_verified['difficulty'].map(mapping)"
   ]
  },
  {
   "cell_type": "code",
   "execution_count": 56,
   "id": "7829c809a4b498d5",
   "metadata": {
    "ExecuteTime": {
     "end_time": "2024-11-13T09:21:40.082055Z",
     "start_time": "2024-11-13T09:21:40.079296Z"
    }
   },
   "outputs": [
    {
     "data": {
      "text/plain": [
       "np.float64(0.42313578235272714)"
      ]
     },
     "execution_count": 56,
     "metadata": {},
     "output_type": "execute_result"
    }
   ],
   "source": [
    "swe_bench_verified['empiric_difficulty'].corr(swe_bench_verified['difficulty_encoded'])"
   ]
  },
  {
   "cell_type": "markdown",
   "id": "733d406e543cdb78",
   "metadata": {},
   "source": [
    "We note a moderate correlation between the difficulty rating provided by OpenAI via annotation and the empiric difficulty of the samples based on the resolution rate of systems competing on SWE-Bench Verified."
   ]
  },
  {
   "cell_type": "code",
   "execution_count": 57,
   "id": "f51eedfdeb1ffc1a",
   "metadata": {
    "ExecuteTime": {
     "end_time": "2024-11-13T09:21:54.658517Z",
     "start_time": "2024-11-13T09:21:54.371011Z"
    }
   },
   "outputs": [
    {
     "data": {
      "image/png": "[encoded data removed]",
      "text/plain": [
       "<Figure size 1000x600 with 4 Axes>"
      ]
     },
     "metadata": {},
     "output_type": "display_data"
    }
   ],
   "source": [
    "# Mapping the difficulty levels to numerics\n",
    "if 'difficulty_encoded' not in swe_bench_verified.columns:\n",
    "    swe_bench_verified['difficulty_encoded'] = swe_bench_verified['difficulty'].map(mapping)\n",
    "\n",
    "# Create subplots\n",
    "fig, axes = plt.subplots(nrows=2, ncols=2, figsize=(10, 6))\n",
    "\n",
    "# Titles for the subplots\n",
    "titles = ['<15 min fix', '15 min - 1 hour', '1-4 hours', '>4 hours']\n",
    "\n",
    "# Loop through each difficulty level and plot histogram\n",
    "for idx, ax in enumerate(axes.flat):\n",
    "    difficulty_level = titles[idx]\n",
    "    data = swe_bench_verified[swe_bench_verified['difficulty_encoded'] == idx]['empiric_difficulty']\n",
    "    ax.hist(data, bins=len(swe_bench_verified.empiric_difficulty.unique()), alpha=0.7, color='blue', edgecolor='black', range=[0,1])\n",
    "    ax.set_xticks(np.arange(0, 1.1, 0.1))\n",
    "    ax.set_title(f'Empiric Difficulty Distribution: {difficulty_level}')\n",
    "    ax.set_xlabel('Empiric Difficulty')\n",
    "    ax.set_ylabel('Frequency')\n",
    "\n",
    "plt.tight_layout()\n",
    "plt.savefig('../report_resources/empiric_difficulty_distribution.pdf')"
   ]
  },
  {
   "cell_type": "markdown",
   "id": "fefbaf34f010dd69",
   "metadata": {},
   "source": [
    "We also visually observe this, for lower difficulty categories, the distribution is more evenly spread across empiric difficulty levels and for the two most difficulty categories, we exclusively observe unsolved samples or samples that were only solved by few systems."
   ]
  },
  {
   "cell_type": "markdown",
   "id": "17e88652b554ff5",
   "metadata": {},
   "source": [
    "## Splitting the dataset\n",
    "For splitting the dataset, we will consider the statistically significantly related features `difficulty` and `false_positive`. Based on these we will perform stratified splitting. We will then use `empiric_difficulty` to validate an even spread of difficulty across the two splits and make adjustments if needed."
   ]
  },
  {
   "cell_type": "code",
   "execution_count": 60,
   "id": "30bb21b20918c952",
   "metadata": {
    "ExecuteTime": {
     "end_time": "2024-12-04T11:12:43.592265Z",
     "start_time": "2024-12-04T11:12:43.572672Z"
    }
   },
   "outputs": [],
   "source": [
    "swe_bench_verified['difficulty_slugged'] = swe_bench_verified['difficulty'].apply(lambda x: '_'.join(x.split(' ')))"
   ]
  },
  {
   "cell_type": "markdown",
   "id": "e088d886e0b917d5",
   "metadata": {},
   "source": [
    "If we include `empiric_difficulty` here already, our classes become too small."
   ]
  },
  {
   "cell_type": "code",
   "execution_count": 61,
   "id": "633346a37bd81b2a",
   "metadata": {
    "ExecuteTime": {
     "end_time": "2024-12-04T11:12:45.761473Z",
     "start_time": "2024-12-04T11:12:45.749281Z"
    }
   },
   "outputs": [],
   "source": [
    "swe_bench_verified['stratify_column'] = swe_bench_verified['difficulty_slugged'].astype(str) + '_' + swe_bench_verified['false_negative'].astype(str)"
   ]
  },
  {
   "cell_type": "markdown",
   "id": "717d604b7ce8f7ee",
   "metadata": {},
   "source": [
    "In terms of the annotated, subjective difficulty, we observe a similar picture. The removed samples are skewed towards increased difficulty, with 14% points more samples in the 15 min - 1 hours category, for example."
   ]
  },
  {
   "cell_type": "code",
   "execution_count": 62,
   "id": "dc9258c8b8c1a3ce",
   "metadata": {
    "ExecuteTime": {
     "end_time": "2024-12-04T11:12:49.142285Z",
     "start_time": "2024-12-04T11:12:49.129212Z"
    }
   },
   "outputs": [],
   "source": [
    "train_df, test_df = train_test_split(swe_bench_verified, test_size=0.1, stratify=swe_bench_verified['stratify_column'], random_state=42)"
   ]
  },
  {
   "cell_type": "code",
   "execution_count": 63,
   "id": "a68d15a2e727e5e5",
   "metadata": {
    "ExecuteTime": {
     "end_time": "2024-12-04T11:12:52.354677Z",
     "start_time": "2024-12-04T11:12:51.645215Z"
    }
   },
   "outputs": [
    {
     "data": {
      "image/png": "[encoded data removed]",
      "text/plain": [
       "<Figure size 600x500 with 1 Axes>"
      ]
     },
     "metadata": {},
     "output_type": "display_data"
    }
   ],
   "source": [
    "def build_stratification_class_deviation_plot(train_df: pd.DataFrame, test_df: pd.DataFrame):    \n",
    "    fig, ax = plt.subplots(figsize=(6, 5))  \n",
    "    \n",
    "    data = train_df.stratify_column.value_counts(normalize=True).sub(test_df.stratify_column.value_counts(normalize=True), fill_value=0) * 100\n",
    "    \n",
    "    colors = ['red' if abs(value) > 2.01 else 'green' for value in data]\n",
    "    \n",
    "    ax.bar(train_df.stratify_column.unique(), data, alpha=0.7, color=colors, edgecolor='black')\n",
    "    ax.set_title('Stratification: Percent Deviation within Classes \\nBetween Train- and Test-Split')\n",
    "    ax.set_xlabel('Stratification Column')\n",
    "    ax.set_ylabel('Deviation in %')\n",
    "    plt.gcf().subplots_adjust(bottom=0.25)\n",
    "    plt.xticks(rotation=45, ha='right')\n",
    "    \n",
    "    return plt\n",
    "plt = build_stratification_class_deviation_plot(train_df, test_df)\n",
    "plt.savefig('../report_resources/train_test_difficulty_deviation.pdf')"
   ]
  },
  {
   "cell_type": "markdown",
   "id": "71ab6f8099fde315",
   "metadata": {},
   "source": [
    "The stratification worked quite well, the deviations are below 1.25% with respect to the stratification classes defined by `stratification_column`. Furthermore, we note that the negative deviations indicate an over representation in the test-split, since we compute the deviation through train - test. We note that the simplest class < 15min quick fix is more prevalent in the train split. As for the hardest classes. For 1-4 hours, we have an over representation of the harder case with underspecified tests. For the easier case, we have a slight over representation in train split. For tasks that were estimated to take the longest by annotators, we have a slight under representation in the test-split. \n",
    "\n",
    "Overall, there is some indication that the difficulty levels across train-test splits are well balance, with the test split seeming to be slightly more difficult. Before we decide whether further adjustments are needed, let's also consult the empiric difficulty distribution."
   ]
  },
  {
   "cell_type": "code",
   "execution_count": 64,
   "id": "e8bbeb28e667a140",
   "metadata": {
    "ExecuteTime": {
     "end_time": "2024-12-04T11:13:06.159547Z",
     "start_time": "2024-12-04T11:13:05.734304Z"
    }
   },
   "outputs": [
    {
     "data": {
      "image/png": "[encoded data removed]",
      "text/plain": [
       "<Figure size 600x500 with 1 Axes>"
      ]
     },
     "metadata": {},
     "output_type": "display_data"
    }
   ],
   "source": [
    "def build_empiric_difficulty_deviation_plot(train_df: pd.DataFrame, test_df: pd.DataFrame):\n",
    "    \"\"\"\n",
    "    Plots the percent deviation of empirical difficulty percentages between train and test datasets.\n",
    "\n",
    "    This function calculates the percent deviation of empirical difficulties between the\n",
    "    train and test datasets, and visualizes it as a bar plot. The empirical difficulties are \n",
    "    grouped, and the deviation is color-coded: red for significant deviations and green for \n",
    "    non-significant deviations. The threshold for a significant deviation is set to 2.01%,\n",
    "    we use this instead of 2% to account for floating point inaccuracies.\n",
    "\n",
    "    Args:\n",
    "        train_df (pd.DataFrame): The training dataset containing an 'empiric_difficulty' column.\n",
    "        test_df (pd.DataFrame): The test dataset containing an 'empiric_difficulty' column.\n",
    "\n",
    "    Returns:\n",
    "        plt: The matplotlib.pyplot object containing the bar plot.\n",
    "    \"\"\"\n",
    "    # Removed the incorrect tuple unpacking of plt.figure and set up ax correctly \n",
    "    _, ax = plt.subplots(figsize=(6, 5))  \n",
    "    \n",
    "    # Loop through each difficulty level and plot histogram\n",
    "    data = train_df.empiric_difficulty.value_counts(normalize=True).sub(test_df.empiric_difficulty.value_counts(normalize=True), fill_value=0) * 100\n",
    "    data = data.sort_index()\n",
    "    empiric_difficulty_labels = [str(label) for label in data.index]\n",
    "    \n",
    "    colors = ['red' if abs(value) > 2.01 else 'green' for value in data]\n",
    "    \n",
    "    ax.bar(empiric_difficulty_labels, data, alpha=0.7, color=colors, edgecolor='black')\n",
    "    ax.set_title('Empiric Difficulty: Percent Deviation within Classes \\nBetween Train- and Test-Split')\n",
    "    ax.set_xlabel('Empiric Difficulty')\n",
    "    ax.set_ylabel('Deviation in %')\n",
    "    \n",
    "    plt.axhline(y=2, color='r', linestyle='--')\n",
    "    plt.axhline(y=-2, color='r', linestyle='--')\n",
    "    \n",
    "    plt.xticks(rotation=90)\n",
    "    plt.tight_layout()\n",
    "    return plt\n",
    "\n",
    "plt = build_empiric_difficulty_deviation_plot(train_df, test_df)\n",
    "plt.savefig('../report_resources/train_test_empiric_difficulty_deviation.pdf')"
   ]
  },
  {
   "cell_type": "markdown",
   "id": "e4def0400970b1c",
   "metadata": {},
   "source": [
    "This plot concerns our hunch above, that the test-split is on the more difficult side when compared to the train-split. We have a 4-6% over representation of the empirically most difficult samples (unsolved, or solved by a single system). However, on other difficulty levels the deviations are more well balanced. In line with other agentic works we settle for this slightly harder test-split, to really test the system capabilities and do not re-shuffle samples to ensure that the difficulties of the splits are as close as possible. At the same time however, we also dont further inflate the difficulty of our test-split."
   ]
  },
  {
   "cell_type": "code",
   "execution_count": 65,
   "id": "3777f59945595d5d",
   "metadata": {
    "ExecuteTime": {
     "end_time": "2024-12-04T11:14:36.564106Z",
     "start_time": "2024-12-04T11:14:36.542240Z"
    }
   },
   "outputs": [
    {
     "data": {
      "text/plain": [
       "empiric_difficulty\n",
       "1.00    7\n",
       "0.97    4\n",
       "0.50    3\n",
       "0.72    3\n",
       "0.89    3\n",
       "0.42    2\n",
       "0.39    2\n",
       "0.64    2\n",
       "0.61    2\n",
       "0.47    2\n",
       "0.56    2\n",
       "0.69    2\n",
       "0.17    1\n",
       "0.33    1\n",
       "0.94    1\n",
       "0.78    1\n",
       "0.83    1\n",
       "0.19    1\n",
       "0.22    1\n",
       "0.67    1\n",
       "0.14    1\n",
       "0.44    1\n",
       "0.28    1\n",
       "Name: count, dtype: int64"
      ]
     },
     "execution_count": 65,
     "metadata": {},
     "output_type": "execute_result"
    }
   ],
   "source": [
    "test_df.empiric_difficulty.value_counts()"
   ]
  },
  {
   "cell_type": "code",
   "execution_count": 49,
   "id": "7f256da0961bdd7b",
   "metadata": {
    "ExecuteTime": {
     "end_time": "2024-12-04T11:14:52.150267Z",
     "start_time": "2024-12-04T11:14:52.123193Z"
    }
   },
   "outputs": [
    {
     "data": {
      "text/html": [
       "<div>\n",
       "<style scoped>\n",
       "    .dataframe tbody tr th:only-of-type {\n",
       "        vertical-align: middle;\n",
       "    }\n",
       "\n",
       "    .dataframe tbody tr th {\n",
       "        vertical-align: top;\n",
       "    }\n",
       "\n",
       "    .dataframe thead th {\n",
       "        text-align: right;\n",
       "    }\n",
       "</style>\n",
       "<table border=\"1\" class=\"dataframe\">\n",
       "  <thead>\n",
       "    <tr style=\"text-align: right;\">\n",
       "      <th></th>\n",
       "      <th>instance_id</th>\n",
       "      <th>times_solved</th>\n",
       "      <th>solved_by</th>\n",
       "      <th>difficulty</th>\n",
       "      <th>empiric_difficulty</th>\n",
       "    </tr>\n",
       "  </thead>\n",
       "  <tbody>\n",
       "    <tr>\n",
       "      <th>431</th>\n",
       "      <td>sympy__sympy-13091</td>\n",
       "      <td>0</td>\n",
       "      <td>[]</td>\n",
       "      <td>15 min - 1 hour</td>\n",
       "      <td>1.00</td>\n",
       "    </tr>\n",
       "    <tr>\n",
       "      <th>138</th>\n",
       "      <td>django__django-14011</td>\n",
       "      <td>0</td>\n",
       "      <td>[]</td>\n",
       "      <td>1-4 hours</td>\n",
       "      <td>1.00</td>\n",
       "    </tr>\n",
       "    <tr>\n",
       "      <th>50</th>\n",
       "      <td>django__django-11477</td>\n",
       "      <td>0</td>\n",
       "      <td>[]</td>\n",
       "      <td>15 min - 1 hour</td>\n",
       "      <td>1.00</td>\n",
       "    </tr>\n",
       "    <tr>\n",
       "      <th>27</th>\n",
       "      <td>django__django-10999</td>\n",
       "      <td>0</td>\n",
       "      <td>[]</td>\n",
       "      <td>&lt;15 min fix</td>\n",
       "      <td>1.00</td>\n",
       "    </tr>\n",
       "    <tr>\n",
       "      <th>332</th>\n",
       "      <td>pytest-dev__pytest-10356</td>\n",
       "      <td>0</td>\n",
       "      <td>[]</td>\n",
       "      <td>1-4 hours</td>\n",
       "      <td>1.00</td>\n",
       "    </tr>\n",
       "    <tr>\n",
       "      <th>194</th>\n",
       "      <td>django__django-15503</td>\n",
       "      <td>0</td>\n",
       "      <td>[]</td>\n",
       "      <td>1-4 hours</td>\n",
       "      <td>1.00</td>\n",
       "    </tr>\n",
       "    <tr>\n",
       "      <th>412</th>\n",
       "      <td>sphinx-doc__sphinx-9229</td>\n",
       "      <td>0</td>\n",
       "      <td>[]</td>\n",
       "      <td>1-4 hours</td>\n",
       "      <td>1.00</td>\n",
       "    </tr>\n",
       "    <tr>\n",
       "      <th>246</th>\n",
       "      <td>django__django-16938</td>\n",
       "      <td>1</td>\n",
       "      <td>[20241023_emergent]</td>\n",
       "      <td>15 min - 1 hour</td>\n",
       "      <td>0.97</td>\n",
       "    </tr>\n",
       "    <tr>\n",
       "      <th>254</th>\n",
       "      <td>matplotlib__matplotlib-14623</td>\n",
       "      <td>1</td>\n",
       "      <td>[20240920_solver]</td>\n",
       "      <td>15 min - 1 hour</td>\n",
       "      <td>0.97</td>\n",
       "    </tr>\n",
       "    <tr>\n",
       "      <th>287</th>\n",
       "      <td>mwaskom__seaborn-3069</td>\n",
       "      <td>1</td>\n",
       "      <td>[20240924_solver]</td>\n",
       "      <td>15 min - 1 hour</td>\n",
       "      <td>0.97</td>\n",
       "    </tr>\n",
       "    <tr>\n",
       "      <th>175</th>\n",
       "      <td>django__django-15037</td>\n",
       "      <td>1</td>\n",
       "      <td>[20241022_tools_claude-3-5-haiku]</td>\n",
       "      <td>15 min - 1 hour</td>\n",
       "      <td>0.97</td>\n",
       "    </tr>\n",
       "    <tr>\n",
       "      <th>422</th>\n",
       "      <td>sphinx-doc__sphinx-9673</td>\n",
       "      <td>2</td>\n",
       "      <td>[20241028_solver, 20241029_epam-ai-run-claude-...</td>\n",
       "      <td>15 min - 1 hour</td>\n",
       "      <td>0.94</td>\n",
       "    </tr>\n",
       "    <tr>\n",
       "      <th>344</th>\n",
       "      <td>pytest-dev__pytest-7490</td>\n",
       "      <td>4</td>\n",
       "      <td>[20241022_tools_claude-3-5-sonnet-updated, 202...</td>\n",
       "      <td>15 min - 1 hour</td>\n",
       "      <td>0.89</td>\n",
       "    </tr>\n",
       "    <tr>\n",
       "      <th>224</th>\n",
       "      <td>django__django-16315</td>\n",
       "      <td>4</td>\n",
       "      <td>[20240820_honeycomb, 20241016_composio_swekit,...</td>\n",
       "      <td>15 min - 1 hour</td>\n",
       "      <td>0.89</td>\n",
       "    </tr>\n",
       "    <tr>\n",
       "      <th>128</th>\n",
       "      <td>django__django-13807</td>\n",
       "      <td>4</td>\n",
       "      <td>[20240628_autocoderover-v20240620, 20240620_sw...</td>\n",
       "      <td>&lt;15 min fix</td>\n",
       "      <td>0.89</td>\n",
       "    </tr>\n",
       "    <tr>\n",
       "      <th>470</th>\n",
       "      <td>sympy__sympy-19495</td>\n",
       "      <td>6</td>\n",
       "      <td>[20240509_amazon-q-developer-agent-20240430-de...</td>\n",
       "      <td>&lt;15 min fix</td>\n",
       "      <td>0.83</td>\n",
       "    </tr>\n",
       "    <tr>\n",
       "      <th>478</th>\n",
       "      <td>sympy__sympy-20801</td>\n",
       "      <td>8</td>\n",
       "      <td>[20240628_autocoderover-v20240620, 20241028_ag...</td>\n",
       "      <td>15 min - 1 hour</td>\n",
       "      <td>0.78</td>\n",
       "    </tr>\n",
       "    <tr>\n",
       "      <th>499</th>\n",
       "      <td>sympy__sympy-24661</td>\n",
       "      <td>10</td>\n",
       "      <td>[20240721_amazon-q-developer-agent-20240719-de...</td>\n",
       "      <td>15 min - 1 hour</td>\n",
       "      <td>0.72</td>\n",
       "    </tr>\n",
       "    <tr>\n",
       "      <th>444</th>\n",
       "      <td>sympy__sympy-14531</td>\n",
       "      <td>10</td>\n",
       "      <td>[20240721_amazon-q-developer-agent-20240719-de...</td>\n",
       "      <td>15 min - 1 hour</td>\n",
       "      <td>0.72</td>\n",
       "    </tr>\n",
       "    <tr>\n",
       "      <th>59</th>\n",
       "      <td>django__django-11749</td>\n",
       "      <td>10</td>\n",
       "      <td>[20240402_sweagent_claude3opus, 20241028_agent...</td>\n",
       "      <td>15 min - 1 hour</td>\n",
       "      <td>0.72</td>\n",
       "    </tr>\n",
       "    <tr>\n",
       "      <th>40</th>\n",
       "      <td>django__django-11211</td>\n",
       "      <td>11</td>\n",
       "      <td>[20240721_amazon-q-developer-agent-20240719-de...</td>\n",
       "      <td>15 min - 1 hour</td>\n",
       "      <td>0.69</td>\n",
       "    </tr>\n",
       "    <tr>\n",
       "      <th>389</th>\n",
       "      <td>sphinx-doc__sphinx-7440</td>\n",
       "      <td>11</td>\n",
       "      <td>[20241002_lingma-agent_lingma-swe-gpt-72b, 202...</td>\n",
       "      <td>&lt;15 min fix</td>\n",
       "      <td>0.69</td>\n",
       "    </tr>\n",
       "    <tr>\n",
       "      <th>104</th>\n",
       "      <td>django__django-13279</td>\n",
       "      <td>12</td>\n",
       "      <td>[20240628_autocoderover-v20240620, 20240920_so...</td>\n",
       "      <td>15 min - 1 hour</td>\n",
       "      <td>0.67</td>\n",
       "    </tr>\n",
       "    <tr>\n",
       "      <th>206</th>\n",
       "      <td>django__django-15814</td>\n",
       "      <td>13</td>\n",
       "      <td>[20240721_amazon-q-developer-agent-20240719-de...</td>\n",
       "      <td>15 min - 1 hour</td>\n",
       "      <td>0.64</td>\n",
       "    </tr>\n",
       "    <tr>\n",
       "      <th>253</th>\n",
       "      <td>matplotlib__matplotlib-13989</td>\n",
       "      <td>13</td>\n",
       "      <td>[20240628_autocoderover-v20240620, 20240920_so...</td>\n",
       "      <td>&lt;15 min fix</td>\n",
       "      <td>0.64</td>\n",
       "    </tr>\n",
       "    <tr>\n",
       "      <th>185</th>\n",
       "      <td>django__django-15278</td>\n",
       "      <td>14</td>\n",
       "      <td>[20240509_amazon-q-developer-agent-20240430-de...</td>\n",
       "      <td>15 min - 1 hour</td>\n",
       "      <td>0.61</td>\n",
       "    </tr>\n",
       "    <tr>\n",
       "      <th>274</th>\n",
       "      <td>matplotlib__matplotlib-24970</td>\n",
       "      <td>14</td>\n",
       "      <td>[20240721_amazon-q-developer-agent-20240719-de...</td>\n",
       "      <td>15 min - 1 hour</td>\n",
       "      <td>0.61</td>\n",
       "    </tr>\n",
       "    <tr>\n",
       "      <th>24</th>\n",
       "      <td>django__django-10880</td>\n",
       "      <td>16</td>\n",
       "      <td>[20240721_amazon-q-developer-agent-20240719-de...</td>\n",
       "      <td>&lt;15 min fix</td>\n",
       "      <td>0.56</td>\n",
       "    </tr>\n",
       "    <tr>\n",
       "      <th>264</th>\n",
       "      <td>matplotlib__matplotlib-23314</td>\n",
       "      <td>16</td>\n",
       "      <td>[20240721_amazon-q-developer-agent-20240719-de...</td>\n",
       "      <td>15 min - 1 hour</td>\n",
       "      <td>0.56</td>\n",
       "    </tr>\n",
       "    <tr>\n",
       "      <th>364</th>\n",
       "      <td>scikit-learn__scikit-learn-14053</td>\n",
       "      <td>18</td>\n",
       "      <td>[20240721_amazon-q-developer-agent-20240719-de...</td>\n",
       "      <td>15 min - 1 hour</td>\n",
       "      <td>0.50</td>\n",
       "    </tr>\n",
       "    <tr>\n",
       "      <th>494</th>\n",
       "      <td>sympy__sympy-24066</td>\n",
       "      <td>18</td>\n",
       "      <td>[20240721_amazon-q-developer-agent-20240719-de...</td>\n",
       "      <td>15 min - 1 hour</td>\n",
       "      <td>0.50</td>\n",
       "    </tr>\n",
       "    <tr>\n",
       "      <th>423</th>\n",
       "      <td>sphinx-doc__sphinx-9698</td>\n",
       "      <td>18</td>\n",
       "      <td>[20241002_lingma-agent_lingma-swe-gpt-72b, 202...</td>\n",
       "      <td>&lt;15 min fix</td>\n",
       "      <td>0.50</td>\n",
       "    </tr>\n",
       "    <tr>\n",
       "      <th>114</th>\n",
       "      <td>django__django-13417</td>\n",
       "      <td>19</td>\n",
       "      <td>[20240721_amazon-q-developer-agent-20240719-de...</td>\n",
       "      <td>&lt;15 min fix</td>\n",
       "      <td>0.47</td>\n",
       "    </tr>\n",
       "    <tr>\n",
       "      <th>467</th>\n",
       "      <td>sympy__sympy-18763</td>\n",
       "      <td>19</td>\n",
       "      <td>[20240721_amazon-q-developer-agent-20240719-de...</td>\n",
       "      <td>&lt;15 min fix</td>\n",
       "      <td>0.47</td>\n",
       "    </tr>\n",
       "    <tr>\n",
       "      <th>445</th>\n",
       "      <td>sympy__sympy-14711</td>\n",
       "      <td>20</td>\n",
       "      <td>[20240615_appmap-navie_gpt4o, 20240509_amazon-...</td>\n",
       "      <td>&lt;15 min fix</td>\n",
       "      <td>0.44</td>\n",
       "    </tr>\n",
       "    <tr>\n",
       "      <th>417</th>\n",
       "      <td>sphinx-doc__sphinx-9367</td>\n",
       "      <td>21</td>\n",
       "      <td>[20240721_amazon-q-developer-agent-20240719-de...</td>\n",
       "      <td>&lt;15 min fix</td>\n",
       "      <td>0.42</td>\n",
       "    </tr>\n",
       "    <tr>\n",
       "      <th>49</th>\n",
       "      <td>django__django-11451</td>\n",
       "      <td>21</td>\n",
       "      <td>[20240721_amazon-q-developer-agent-20240719-de...</td>\n",
       "      <td>&lt;15 min fix</td>\n",
       "      <td>0.42</td>\n",
       "    </tr>\n",
       "    <tr>\n",
       "      <th>135</th>\n",
       "      <td>django__django-13933</td>\n",
       "      <td>22</td>\n",
       "      <td>[20240721_amazon-q-developer-agent-20240719-de...</td>\n",
       "      <td>&lt;15 min fix</td>\n",
       "      <td>0.39</td>\n",
       "    </tr>\n",
       "    <tr>\n",
       "      <th>213</th>\n",
       "      <td>django__django-15987</td>\n",
       "      <td>22</td>\n",
       "      <td>[20240615_appmap-navie_gpt4o, 20240509_amazon-...</td>\n",
       "      <td>&lt;15 min fix</td>\n",
       "      <td>0.39</td>\n",
       "    </tr>\n",
       "    <tr>\n",
       "      <th>458</th>\n",
       "      <td>sympy__sympy-16886</td>\n",
       "      <td>24</td>\n",
       "      <td>[20240721_amazon-q-developer-agent-20240719-de...</td>\n",
       "      <td>&lt;15 min fix</td>\n",
       "      <td>0.33</td>\n",
       "    </tr>\n",
       "    <tr>\n",
       "      <th>126</th>\n",
       "      <td>django__django-13786</td>\n",
       "      <td>26</td>\n",
       "      <td>[20240721_amazon-q-developer-agent-20240719-de...</td>\n",
       "      <td>15 min - 1 hour</td>\n",
       "      <td>0.28</td>\n",
       "    </tr>\n",
       "    <tr>\n",
       "      <th>219</th>\n",
       "      <td>django__django-16139</td>\n",
       "      <td>28</td>\n",
       "      <td>[20240721_amazon-q-developer-agent-20240719-de...</td>\n",
       "      <td>&lt;15 min fix</td>\n",
       "      <td>0.22</td>\n",
       "    </tr>\n",
       "    <tr>\n",
       "      <th>339</th>\n",
       "      <td>pytest-dev__pytest-6202</td>\n",
       "      <td>29</td>\n",
       "      <td>[20240721_amazon-q-developer-agent-20240719-de...</td>\n",
       "      <td>&lt;15 min fix</td>\n",
       "      <td>0.19</td>\n",
       "    </tr>\n",
       "    <tr>\n",
       "      <th>178</th>\n",
       "      <td>django__django-15104</td>\n",
       "      <td>30</td>\n",
       "      <td>[20240721_amazon-q-developer-agent-20240719-de...</td>\n",
       "      <td>&lt;15 min fix</td>\n",
       "      <td>0.17</td>\n",
       "    </tr>\n",
       "    <tr>\n",
       "      <th>231</th>\n",
       "      <td>django__django-16527</td>\n",
       "      <td>31</td>\n",
       "      <td>[20240721_amazon-q-developer-agent-20240719-de...</td>\n",
       "      <td>15 min - 1 hour</td>\n",
       "      <td>0.14</td>\n",
       "    </tr>\n",
       "  </tbody>\n",
       "</table>\n",
       "</div>"
      ],
      "text/plain": [
       "                          instance_id  times_solved  \\\n",
       "431                sympy__sympy-13091             0   \n",
       "138              django__django-14011             0   \n",
       "50               django__django-11477             0   \n",
       "27               django__django-10999             0   \n",
       "332          pytest-dev__pytest-10356             0   \n",
       "194              django__django-15503             0   \n",
       "412           sphinx-doc__sphinx-9229             0   \n",
       "246              django__django-16938             1   \n",
       "254      matplotlib__matplotlib-14623             1   \n",
       "287             mwaskom__seaborn-3069             1   \n",
       "175              django__django-15037             1   \n",
       "422           sphinx-doc__sphinx-9673             2   \n",
       "344           pytest-dev__pytest-7490             4   \n",
       "224              django__django-16315             4   \n",
       "128              django__django-13807             4   \n",
       "470                sympy__sympy-19495             6   \n",
       "478                sympy__sympy-20801             8   \n",
       "499                sympy__sympy-24661            10   \n",
       "444                sympy__sympy-14531            10   \n",
       "59               django__django-11749            10   \n",
       "40               django__django-11211            11   \n",
       "389           sphinx-doc__sphinx-7440            11   \n",
       "104              django__django-13279            12   \n",
       "206              django__django-15814            13   \n",
       "253      matplotlib__matplotlib-13989            13   \n",
       "185              django__django-15278            14   \n",
       "274      matplotlib__matplotlib-24970            14   \n",
       "24               django__django-10880            16   \n",
       "264      matplotlib__matplotlib-23314            16   \n",
       "364  scikit-learn__scikit-learn-14053            18   \n",
       "494                sympy__sympy-24066            18   \n",
       "423           sphinx-doc__sphinx-9698            18   \n",
       "114              django__django-13417            19   \n",
       "467                sympy__sympy-18763            19   \n",
       "445                sympy__sympy-14711            20   \n",
       "417           sphinx-doc__sphinx-9367            21   \n",
       "49               django__django-11451            21   \n",
       "135              django__django-13933            22   \n",
       "213              django__django-15987            22   \n",
       "458                sympy__sympy-16886            24   \n",
       "126              django__django-13786            26   \n",
       "219              django__django-16139            28   \n",
       "339           pytest-dev__pytest-6202            29   \n",
       "178              django__django-15104            30   \n",
       "231              django__django-16527            31   \n",
       "\n",
       "                                             solved_by       difficulty  \\\n",
       "431                                                 []  15 min - 1 hour   \n",
       "138                                                 []        1-4 hours   \n",
       "50                                                  []  15 min - 1 hour   \n",
       "27                                                  []      <15 min fix   \n",
       "332                                                 []        1-4 hours   \n",
       "194                                                 []        1-4 hours   \n",
       "412                                                 []        1-4 hours   \n",
       "246                                [20241023_emergent]  15 min - 1 hour   \n",
       "254                                  [20240920_solver]  15 min - 1 hour   \n",
       "287                                  [20240924_solver]  15 min - 1 hour   \n",
       "175                  [20241022_tools_claude-3-5-haiku]  15 min - 1 hour   \n",
       "422  [20241028_solver, 20241029_epam-ai-run-claude-...  15 min - 1 hour   \n",
       "344  [20241022_tools_claude-3-5-sonnet-updated, 202...  15 min - 1 hour   \n",
       "224  [20240820_honeycomb, 20241016_composio_swekit,...  15 min - 1 hour   \n",
       "128  [20240628_autocoderover-v20240620, 20240620_sw...      <15 min fix   \n",
       "470  [20240509_amazon-q-developer-agent-20240430-de...      <15 min fix   \n",
       "478  [20240628_autocoderover-v20240620, 20241028_ag...  15 min - 1 hour   \n",
       "499  [20240721_amazon-q-developer-agent-20240719-de...  15 min - 1 hour   \n",
       "444  [20240721_amazon-q-developer-agent-20240719-de...  15 min - 1 hour   \n",
       "59   [20240402_sweagent_claude3opus, 20241028_agent...  15 min - 1 hour   \n",
       "40   [20240721_amazon-q-developer-agent-20240719-de...  15 min - 1 hour   \n",
       "389  [20241002_lingma-agent_lingma-swe-gpt-72b, 202...      <15 min fix   \n",
       "104  [20240628_autocoderover-v20240620, 20240920_so...  15 min - 1 hour   \n",
       "206  [20240721_amazon-q-developer-agent-20240719-de...  15 min - 1 hour   \n",
       "253  [20240628_autocoderover-v20240620, 20240920_so...      <15 min fix   \n",
       "185  [20240509_amazon-q-developer-agent-20240430-de...  15 min - 1 hour   \n",
       "274  [20240721_amazon-q-developer-agent-20240719-de...  15 min - 1 hour   \n",
       "24   [20240721_amazon-q-developer-agent-20240719-de...      <15 min fix   \n",
       "264  [20240721_amazon-q-developer-agent-20240719-de...  15 min - 1 hour   \n",
       "364  [20240721_amazon-q-developer-agent-20240719-de...  15 min - 1 hour   \n",
       "494  [20240721_amazon-q-developer-agent-20240719-de...  15 min - 1 hour   \n",
       "423  [20241002_lingma-agent_lingma-swe-gpt-72b, 202...      <15 min fix   \n",
       "114  [20240721_amazon-q-developer-agent-20240719-de...      <15 min fix   \n",
       "467  [20240721_amazon-q-developer-agent-20240719-de...      <15 min fix   \n",
       "445  [20240615_appmap-navie_gpt4o, 20240509_amazon-...      <15 min fix   \n",
       "417  [20240721_amazon-q-developer-agent-20240719-de...      <15 min fix   \n",
       "49   [20240721_amazon-q-developer-agent-20240719-de...      <15 min fix   \n",
       "135  [20240721_amazon-q-developer-agent-20240719-de...      <15 min fix   \n",
       "213  [20240615_appmap-navie_gpt4o, 20240509_amazon-...      <15 min fix   \n",
       "458  [20240721_amazon-q-developer-agent-20240719-de...      <15 min fix   \n",
       "126  [20240721_amazon-q-developer-agent-20240719-de...  15 min - 1 hour   \n",
       "219  [20240721_amazon-q-developer-agent-20240719-de...      <15 min fix   \n",
       "339  [20240721_amazon-q-developer-agent-20240719-de...      <15 min fix   \n",
       "178  [20240721_amazon-q-developer-agent-20240719-de...      <15 min fix   \n",
       "231  [20240721_amazon-q-developer-agent-20240719-de...  15 min - 1 hour   \n",
       "\n",
       "     empiric_difficulty  \n",
       "431                1.00  \n",
       "138                1.00  \n",
       "50                 1.00  \n",
       "27                 1.00  \n",
       "332                1.00  \n",
       "194                1.00  \n",
       "412                1.00  \n",
       "246                0.97  \n",
       "254                0.97  \n",
       "287                0.97  \n",
       "175                0.97  \n",
       "422                0.94  \n",
       "344                0.89  \n",
       "224                0.89  \n",
       "128                0.89  \n",
       "470                0.83  \n",
       "478                0.78  \n",
       "499                0.72  \n",
       "444                0.72  \n",
       "59                 0.72  \n",
       "40                 0.69  \n",
       "389                0.69  \n",
       "104                0.67  \n",
       "206                0.64  \n",
       "253                0.64  \n",
       "185                0.61  \n",
       "274                0.61  \n",
       "24                 0.56  \n",
       "264                0.56  \n",
       "364                0.50  \n",
       "494                0.50  \n",
       "423                0.50  \n",
       "114                0.47  \n",
       "467                0.47  \n",
       "445                0.44  \n",
       "417                0.42  \n",
       "49                 0.42  \n",
       "135                0.39  \n",
       "213                0.39  \n",
       "458                0.33  \n",
       "126                0.28  \n",
       "219                0.22  \n",
       "339                0.19  \n",
       "178                0.17  \n",
       "231                0.14  "
      ]
     },
     "execution_count": 49,
     "metadata": {},
     "output_type": "execute_result"
    }
   ],
   "source": [
    "test_df[['instance_id', 'times_solved','solved_by','difficulty','empiric_difficulty']].sort_values(by='empiric_difficulty', ascending=False)"
   ]
  },
  {
   "cell_type": "code",
   "execution_count": 66,
   "id": "15db22e8ae72a29d",
   "metadata": {
    "ExecuteTime": {
     "end_time": "2024-12-04T11:15:08.774254Z",
     "start_time": "2024-12-04T11:15:08.762344Z"
    }
   },
   "outputs": [
    {
     "data": {
      "text/plain": [
       "(401, 22)"
      ]
     },
     "execution_count": 66,
     "metadata": {},
     "output_type": "execute_result"
    }
   ],
   "source": [
    "train_df.shape"
   ]
  },
  {
   "cell_type": "code",
   "execution_count": 67,
   "id": "6f939a80c5dadb6e",
   "metadata": {
    "ExecuteTime": {
     "end_time": "2024-12-04T11:15:09.876828Z",
     "start_time": "2024-12-04T11:15:09.867277Z"
    }
   },
   "outputs": [
    {
     "data": {
      "text/plain": [
       "(45, 22)"
      ]
     },
     "execution_count": 67,
     "metadata": {},
     "output_type": "execute_result"
    }
   ],
   "source": [
    "test_df.shape"
   ]
  },
  {
   "cell_type": "code",
   "execution_count": 68,
   "id": "0904c36d",
   "metadata": {},
   "outputs": [
    {
     "name": "stdout",
     "output_type": "stream",
     "text": [
      "✓ All 45 test instances match between test_df and test_tasks.txt\n"
     ]
    }
   ],
   "source": [
    "with open('../conf/swe_verified_test_tasks.txt', 'r') as f:\n",
    "    test_tasks = f.readlines()\n",
    "    \n",
    "# Check that each item in test_tasks matches an instance_id in test_df\n",
    "test_tasks = [task.strip() for task in test_tasks]  # Remove any whitespace/newlines\n",
    "test_ids_in_df = set(test_df['instance_id'].tolist())\n",
    "test_ids_in_file = set(test_tasks)\n",
    "\n",
    "# Check if all tasks in the file are in the DataFrame\n",
    "missing_from_df = test_ids_in_file - test_ids_in_df\n",
    "if missing_from_df:\n",
    "    print(f\"Warning: {len(missing_from_df)} tasks in test_tasks.txt are not in test_df:\")\n",
    "    print(list(missing_from_df)[:5], \"...\" if len(missing_from_df) > 5 else \"\")\n",
    "\n",
    "# Check if all instances in the DataFrame are in the file\n",
    "missing_from_file = test_ids_in_df - test_ids_in_file\n",
    "if missing_from_file:\n",
    "    print(f\"Warning: {len(missing_from_file)} instances in test_df are not in test_tasks.txt:\")\n",
    "    print(list(missing_from_file)[:5], \"...\" if len(missing_from_file) > 5 else \"\")\n",
    "\n",
    "# Print summary\n",
    "if not missing_from_df and not missing_from_file:\n",
    "    print(f\"✓ All {len(test_ids_in_df)} test instances match between test_df and test_tasks.txt\")\n",
    "else:\n",
    "    print(f\"Total instances in test_df: {len(test_ids_in_df)}\")\n",
    "    print(f\"Total tasks in test_tasks.txt: {len(test_ids_in_file)}\")\n",
    "    "
   ]
  },
  {
   "cell_type": "code",
   "execution_count": 52,
   "id": "b9ef7ade01565f3f",
   "metadata": {
    "ExecuteTime": {
     "end_time": "2024-12-04T11:15:18.027443Z",
     "start_time": "2024-12-04T11:15:17.994701Z"
    }
   },
   "outputs": [],
   "source": [
    "train_df.to_json('../data/train.json', indent=4, orient='records', force_ascii=False)\n",
    "test_df.to_json('../data/test.json', indent=4, orient='records', force_ascii=False)"
   ]
  },
  {
   "cell_type": "code",
   "execution_count": 53,
   "id": "350a7e2643033add",
   "metadata": {
    "ExecuteTime": {
     "end_time": "2024-12-04T11:15:19.374188Z",
     "start_time": "2024-12-04T11:15:19.356198Z"
    }
   },
   "outputs": [],
   "source": [
    "with open('../conf/swe_verified_train_tasks.txt', 'w+') as f:\n",
    "    for instance in train_df.loc[:, \"instance_id\"]:\n",
    "        f.write(f\"{instance}\\n\")\n",
    "        \n",
    "with open('../conf/swe_verified_test_tasks.txt', 'w+') as f:\n",
    "    for instance in test_df.loc[:, \"instance_id\"]:\n",
    "        f.write(f\"{instance}\\n\")"
   ]
  },
  {
   "cell_type": "code",
   "execution_count": 54,
   "id": "f24fcc0889882de9",
   "metadata": {
    "ExecuteTime": {
     "end_time": "2024-12-04T11:15:21.238534Z",
     "start_time": "2024-12-04T11:15:21.217434Z"
    }
   },
   "outputs": [],
   "source": [
    "swe_bench_verified.to_json('../data/swe_bench_verified_resolution_data.json', indent=4, orient='records', force_ascii=False)"
   ]
  },
  {
   "cell_type": "code",
   "execution_count": 9,
   "id": "45ecc620",
   "metadata": {},
   "outputs": [],
   "source": [
    "import pandas as pd\n",
    "import seaborn as sns"
   ]
  },
  {
   "cell_type": "code",
   "execution_count": 6,
   "id": "78b5c191",
   "metadata": {},
   "outputs": [],
   "source": [
    "train_df = pd.read_json('../data/train.json', orient='records')"
   ]
  },
  {
   "cell_type": "code",
   "execution_count": 22,
   "id": "7989dd72",
   "metadata": {},
   "outputs": [],
   "source": [
    "train_repos = train_df['instance_id'].str.split('__', expand=True)[0].value_counts()\n",
    "labels_train = train_repos.index.tolist()\n",
    "sizes_train = train_repos.values.tolist()\n",
    "palette = sns.color_palette('pastel', n_colors=len(labels_train))\n",
    "color_map = {}\n",
    "for idx, label in enumerate(labels_train):\n",
    "    color_map[label] = palette[idx]"
   ]
  },
  {
   "cell_type": "code",
   "execution_count": 16,
   "id": "8887ef41",
   "metadata": {},
   "outputs": [
    {
     "data": {
      "text/plain": [
       "{'django': (0.6313725490196078, 0.788235294117647, 0.9568627450980393),\n",
       " 'sympy': (1.0, 0.7058823529411765, 0.5098039215686274),\n",
       " 'sphinx-doc': (0.5529411764705883, 0.8980392156862745, 0.6313725490196078),\n",
       " 'scikit-learn': (1.0, 0.6235294117647059, 0.6078431372549019),\n",
       " 'matplotlib': (0.8156862745098039, 0.7333333333333333, 1.0),\n",
       " 'pytest-dev': (0.8705882352941177, 0.7333333333333333, 0.6078431372549019),\n",
       " 'psf': (0.9803921568627451, 0.6901960784313725, 0.8941176470588236),\n",
       " 'mwaskom': (0.8117647058823529, 0.8117647058823529, 0.8117647058823529),\n",
       " 'pallets': (1.0, 0.996078431372549, 0.6392156862745098)}"
      ]
     },
     "execution_count": 16,
     "metadata": {},
     "output_type": "execute_result"
    }
   ],
   "source": [
    "color_map"
   ]
  },
  {
   "cell_type": "code",
   "execution_count": 111,
   "id": "29aeda91",
   "metadata": {},
   "outputs": [
    {
     "data": {
      "image/png": "[encoded data removed]",
      "text/plain": [
       "<Figure size 800x1200 with 2 Axes>"
      ]
     },
     "metadata": {},
     "output_type": "display_data"
    }
   ],
   "source": [
    "import matplotlib.pyplot as plt\n",
    "import seaborn as sns\n",
    "import numpy as np\n",
    "\n",
    "# Get repository counts for train and test sets\n",
    "train_repos = train_df['instance_id'].str.split('__', expand=True)[0].value_counts()\n",
    "test_repos = test_df['instance_id'].str.split('__', expand=True)[0].value_counts()\n",
    "\n",
    "# Extract labels and sizes for both charts\n",
    "labels1 = train_repos.index.tolist()\n",
    "sizes1 = train_repos.values.tolist()\n",
    "\n",
    "labels2 = test_repos.index.tolist()\n",
    "sizes2 = test_repos.values.tolist()\n",
    "\n",
    "# Choose a Seaborn palette\n",
    "palette = sns.color_palette('pastel', n_colors=max(len(labels1), len(labels2)))\n",
    "\n",
    "# Map each repository in the train set to a specific color\n",
    "color_map = {}\n",
    "for idx, label in enumerate(labels1):\n",
    "    color_map[label] = palette[idx]\n",
    "\n",
    "# Prepare colors for each slice in the train pie chart, in train order\n",
    "colors1 = [color_map[label] for label in labels1]\n",
    "\n",
    "# Prepare colors for each slice in the test pie chart, matching the train color if it exists\n",
    "colors2 = [color_map.get(label, 'grey') for label in labels2]\n",
    "\n",
    "# Create the figure and subplots\n",
    "fig, (ax1, ax2) = plt.subplots(2, 1, figsize=(8, 12))\n",
    "\n",
    "# Plot the first pie chart\n",
    "wedges1, _ = ax1.pie(sizes1, colors=colors1, startangle=90)\n",
    "ax1.axis('equal')\n",
    "ax1.set_title('Number of Samples per Repository in Train-Split', fontsize=30, pad=40)\n",
    "\n",
    "# Add annotations to the first pie chart\n",
    "for i, wedge in enumerate(wedges1):\n",
    "    if sizes1[i] > 1:\n",
    "        ang = (wedge.theta2 - wedge.theta1) / 2.0 + wedge.theta1\n",
    "        x = wedge.r * 1.2 * np.cos(np.deg2rad(ang))\n",
    "        y = wedge.r * 1.2 * np.sin(np.deg2rad(ang))\n",
    "        ax1.text(x, y, str(sizes1[i]), ha='center', va='center', fontsize=26)\n",
    "\n",
    "# Plot the second pie chart\n",
    "wedges2, _ = ax2.pie(sizes2, colors=colors2, startangle=90)\n",
    "ax2.axis('equal')\n",
    "ax2.set_title('Number of Samples per Repository in Test-Split', fontsize=30, pad=40)\n",
    "\n",
    "# Add annotations to the second pie chart\n",
    "for i, wedge in enumerate(wedges2):\n",
    "    if sizes2[i] > 0:\n",
    "        ang = (wedge.theta2 - wedge.theta1) / 2.0 + wedge.theta1\n",
    "        x = wedge.r * 1.2 * np.cos(np.deg2rad(ang))\n",
    "        y = wedge.r * 1.2 * np.sin(np.deg2rad(ang))\n",
    "        ax2.text(x, y, str(sizes2[i]), ha='center', va='center', fontsize=26)\n",
    "\n",
    "# Create a legend with the train labels in the correct order\n",
    "handles = [plt.Rectangle((0, 0), 1, 1, color=palette[i]) for i in range(len(labels1))]\n",
    "fig.legend(\n",
    "    handles, labels1, loc='lower center',\n",
    "    ncol=(len(labels1) + 1) // 3, bbox_to_anchor=(0.5, -0.05), fontsize=30\n",
    ")\n",
    "\n",
    "# Adjust layout and show the plot\n",
    "plt.tight_layout(rect=[0, 0.15, 1, 0.95])\n",
    "plt.savefig('../report_resources/repository_distribution_across_splits.pdf', bbox_inches='tight')\n",
    "plt.show()"
   ]
  },
  {
   "cell_type": "code",
   "execution_count": 24,
   "id": "52ce67db",
   "metadata": {},
   "outputs": [
    {
     "data": {
      "image/png": "[encoded data removed]",
      "text/plain": [
       "<Figure size 800x1200 with 1 Axes>"
      ]
     },
     "metadata": {},
     "output_type": "display_data"
    }
   ],
   "source": [
    "all_past_successful_trajectories = json.load(open('../data/all_successful_patch_trajectories.json', encoding='utf-8'))\n",
    "\n",
    "# Convert 'instance_id' to repository names\n",
    "import pandas as pd\n",
    "repo_names = [item['instance_id'].split('__', 1)[0] for item in all_past_successful_trajectories]\n",
    "repos = pd.Series(repo_names).value_counts()\n",
    "\n",
    "labels1 = repos.index.tolist()\n",
    "sizes1 = repos.values.tolist()\n",
    "\n",
    "# Prepare colors for each slice in the pie chart\n",
    "colors1 = [color_map.get(label, 'grey') for label in labels1]\n",
    "\n",
    "# Create the figure and subplots\n",
    "fig, ax = plt.subplots(1, 1, figsize=(8, 12))\n",
    "\n",
    "# Plot the pie chart of repositories\n",
    "wedges1, _ = ax.pie(sizes1, colors=colors1, startangle=90)\n",
    "ax.axis('equal')\n",
    "ax.set_title('Number of Samples per Repository in Successful Trajectories', fontsize=30, pad=40)\n",
    "\n",
    "# Add annotations to the pie chart\n",
    "for i, wedge in enumerate(wedges1):\n",
    "    if sizes1[i] > 1:\n",
    "        ang = (wedge.theta2 - wedge.theta1) / 2.0 + wedge.theta1\n",
    "        x = wedge.r * 1.2 * np.cos(np.deg2rad(ang))\n",
    "        y = wedge.r * 1.2 * np.sin(np.deg2rad(ang))\n",
    "        ax.text(x, y, str(sizes1[i]), ha='center', va='center', fontsize=26)\n",
    "\n",
    "# Create a legend with the repository labels in the correct order\n",
    "handles = [plt.Rectangle((0, 0), 1, 1, color=palette[i]) for i, label in enumerate(labels_train) if label in labels1]\n",
    "legend_labels = [label for label in labels_train if label in labels1]\n",
    "fig.legend(\n",
    "    handles, legend_labels, loc='lower center', \n",
    "    ncol=(len(legend_labels) + 1) // 3, bbox_to_anchor=(0.5, -0.05), fontsize=30\n",
    ")\n",
    "\n",
    "# Adjust layout and show the plot\n",
    "plt.tight_layout(rect=[0, 0.15, 1, 0.95])\n",
    "plt.savefig('../report_resources/repository_distribution_successful_trajectories.pdf', bbox_inches='tight')\n",
    "plt.show()"
   ]
  },
  {
   "cell_type": "code",
   "execution_count": 25,
   "id": "bfd4d5bc",
   "metadata": {},
   "outputs": [
    {
     "data": {
      "text/plain": [
       "django          143\n",
       "sympy            44\n",
       "scikit-learn     20\n",
       "pytest-dev       12\n",
       "matplotlib        5\n",
       "psf               5\n",
       "sphinx-doc        5\n",
       "mwaskom           2\n",
       "Name: count, dtype: int64"
      ]
     },
     "execution_count": 25,
     "metadata": {},
     "output_type": "execute_result"
    }
   ],
   "source": [
    "repos"
   ]
  },
  {
   "cell_type": "code",
   "execution_count": 102,
   "id": "c7e220de",
   "metadata": {},
   "outputs": [
    {
     "data": {
      "text/plain": [
       "0\n",
       "django          22\n",
       "sympy            9\n",
       "sphinx-doc       5\n",
       "matplotlib       4\n",
       "pytest-dev       3\n",
       "mwaskom          1\n",
       "scikit-learn     1\n",
       "Name: count, dtype: int64"
      ]
     },
     "execution_count": 102,
     "metadata": {},
     "output_type": "execute_result"
    }
   ],
   "source": [
    "test_df['instance_id'].str.split('__', expand=True)[0].value_counts()"
   ]
  },
  {
   "cell_type": "code",
   "execution_count": 103,
   "id": "5faedf3e",
   "metadata": {},
   "outputs": [
    {
     "data": {
      "text/plain": [
       "0\n",
       "django          209\n",
       "sympy            66\n",
       "sphinx-doc       39\n",
       "scikit-learn     31\n",
       "matplotlib       30\n",
       "pytest-dev       16\n",
       "psf               8\n",
       "mwaskom           1\n",
       "pallets           1\n",
       "Name: count, dtype: int64"
      ]
     },
     "execution_count": 103,
     "metadata": {},
     "output_type": "execute_result"
    }
   ],
   "source": [
    "train_df['instance_id'].str.split('__', expand=True)[0].value_counts()"
   ]
  },
  {
   "cell_type": "markdown",
   "id": "41f8cabb6f55503c",
   "metadata": {},
   "source": [
    "# For documentation only: \n",
    "## Reshuffle until we have an more well balanced spread of empiric difficulty"
   ]
  },
  {
   "cell_type": "code",
   "execution_count": 70,
   "id": "4db93a8c1b20ccb8",
   "metadata": {
    "ExecuteTime": {
     "end_time": "2024-11-13T09:24:23.737987Z",
     "start_time": "2024-11-13T09:24:23.735338Z"
    }
   },
   "outputs": [],
   "source": [
    "def move(row: pd.Series, src: pd.DataFrame, dst: pd.DataFrame) -> Tuple[pd.DataFrame, pd.DataFrame]:\n",
    "    \"\"\"\n",
    "    Moves a specific row from one DataFrame to another.\n",
    "\n",
    "        Parameters:\n",
    "            row (pd.Series): The row to move from the source DataFrame to the destination DataFrame.\n",
    "            src (pd.DataFrame): The source DataFrame from which the row will be removed.\n",
    "            dst (pd.DataFrame): The destination DataFrame to which the row will be added.\n",
    "\n",
    "        Returns:\n",
    "            tuple: A tuple containing the updated source and destination DataFrames.\n",
    "    \"\"\"\n",
    "    src.drop(row.index, inplace=True)\n",
    "    dst = pd.concat([dst, row_to_shift])\n",
    "    \n",
    "    return src, dst\n",
    "\n",
    "def get_minimum_deviation_stratification_class(train_df: pd.DataFrame, test_df: pd.DataFrame) -> str:\n",
    "    \"\"\"\n",
    "    Determines which stratification class has the minimum deviation (closest to zero)\n",
    "    in frequency between the training and testing datasets.\n",
    "\n",
    "    Parameters:\n",
    "        train_df (pd.DataFrame): The training dataset containing the stratification column.\n",
    "        test_df (pd.DataFrame): The testing dataset containing the stratification column.\n",
    "\n",
    "    Returns:\n",
    "        The stratification class label with the minimum deviation in frequency \n",
    "        between the training and testing datasets.\n",
    "    \"\"\"\n",
    "    stratify_column_percent_deviation = train_df.stratify_column.value_counts(normalize=True).sub(test_df.stratify_column.value_counts(normalize=True), fill_value=0)\n",
    "    return stratify_column_percent_deviation.abs().idxmin()\n",
    "\n",
    "def determine_row_to_shift_from(candidate_rows: pd.DataFrame, stratify_min_index: str) -> pd.Series:\n",
    "    \"\"\"\n",
    "    Determines a row to shift from a given DataFrame of candidate rows.\n",
    "\n",
    "    This function first attempts to sample a row from the candidate rows that match a specified minimum deviation class (stratify_min_index). If no rows match this criterion, it falls back to sampling a random row from the candidate rows.\n",
    "\n",
    "    Arguments:\n",
    "        candidate_rows (pd.DataFrame): The DataFrame containing candidate rows to choose from.\n",
    "        stratify_min_index (str): The value used to stratify the candidate rows and select rows from the minimum deviation class.\n",
    "\n",
    "    Returns:\n",
    "        pd.Series: The row selected to be shifted from the candidate rows.\n",
    "    \"\"\"\n",
    "    if len(candidate_rows[candidate_rows['stratify_column'] == stratify_min_index]) > 0:\n",
    "        row_to_shift = candidate_rows[candidate_rows['stratify_column'] == stratify_min_index].sample(random_state=42)\n",
    "    else: \n",
    "        row_to_shift = candidate_rows.sample(random_state=42)\n",
    "        print(f'Unable to select candidate from minimum deviation class {stratify_min_index}, backing off to sampling a random row.')\n",
    "        \n",
    "    return row_to_shift"
   ]
  },
  {
   "cell_type": "code",
   "execution_count": 71,
   "id": "8463f6e5b7e407d9",
   "metadata": {
    "ExecuteTime": {
     "end_time": "2024-11-13T09:24:29.856229Z",
     "start_time": "2024-11-13T09:24:29.827876Z"
    }
   },
   "outputs": [
    {
     "name": "stdout",
     "output_type": "stream",
     "text": [
      "---- ITERATION 1 ----\n",
      "Maximum value in data: 3.3333333333333335 at index 0.25\n",
      "Minimum value in data: -6.444444444444445 at index 0.97\n",
      "Unable to select candidate from minimum deviation class 1-4_hours_0.0, backing off to sampling a random row.\n",
      "Moved \"django__django-13670\" with empiric difficulty \"0.25\" from train to test split.\n",
      "Unable to select candidate from minimum deviation class 1-4_hours_0.0, backing off to sampling a random row.\n",
      "Moved \"sympy__sympy-19040\" with empiric difficulty \"0.97\" from test to train split.\n",
      "\n",
      "---- ITERATION 2 ----\n",
      "Maximum value in data: 3.111111111111111 at index 0.61\n",
      "Minimum value in data: -4.4444444444444455 at index 1.0\n",
      "Unable to select candidate from minimum deviation class 1-4_hours_0.0, backing off to sampling a random row.\n",
      "Moved \"django__django-15380\" with empiric difficulty \"0.61\" from train to test split.\n",
      "Moved \"django__django-11734\" with empiric difficulty \"1.0\" from test to train split.\n",
      "\n",
      "---- ITERATION 3 ----\n",
      "Maximum value in data: 2.666666666666667 at index 0.53\n",
      "Minimum value in data: -4.222222222222223 at index 0.97\n",
      "Unable to select candidate from minimum deviation class 1-4_hours_0.0, backing off to sampling a random row.\n",
      "Moved \"scikit-learn__scikit-learn-26323\" with empiric difficulty \"0.53\" from train to test split.\n",
      "Unable to select candidate from minimum deviation class 1-4_hours_0.0, backing off to sampling a random row.\n",
      "Moved \"django__django-12273\" with empiric difficulty \"0.97\" from test to train split.\n",
      "\n",
      "---- ITERATION 4 ----\n",
      "Maximum value in data: 2.2222222222222223 at index 0.36\n",
      "Minimum value in data: -2.888888888888889 at index 0.56\n",
      "Unable to select candidate from minimum deviation class 1-4_hours_0.0, backing off to sampling a random row.\n",
      "Moved \"sympy__sympy-19637\" with empiric difficulty \"0.36\" from train to test split.\n",
      "Unable to select candidate from minimum deviation class 1-4_hours_0.0, backing off to sampling a random row.\n",
      "Moved \"sphinx-doc__sphinx-8475\" with empiric difficulty \"0.56\" from test to train split.\n",
      "\n",
      "---- ITERATION 5 ----\n",
      "Maximum value in data: 2.0 at index 0.14\n",
      "Minimum value in data: -2.6666666666666665 at index 0.92\n",
      "Unable to select candidate from minimum deviation class 1-4_hours_0.0, backing off to sampling a random row.\n",
      "Moved \"pylint-dev__pylint-6903\" with empiric difficulty \"0.14\" from train to test split.\n",
      "Unable to select candidate from minimum deviation class 1-4_hours_0.0, backing off to sampling a random row.\n",
      "Moved \"django__django-13121\" with empiric difficulty \"0.92\" from test to train split.\n",
      "\n",
      "---- ITERATION 6 ----\n",
      "Maximum value in data: 1.5555555555555556 at index 0.31\n",
      "Minimum value in data: -2.2222222222222228 at index 1.0\n",
      "Unable to select candidate from minimum deviation class 1-4_hours_0.0, backing off to sampling a random row.\n",
      "Moved \"sympy__sympy-24539\" with empiric difficulty \"0.31\" from train to test split.\n",
      "Unable to select candidate from minimum deviation class 1-4_hours_0.0, backing off to sampling a random row.\n",
      "Moved \"django__django-13212\" with empiric difficulty \"1.0\" from test to train split.\n",
      "\n",
      "---- ITERATION 7 ----\n",
      "Maximum value in data: 1.3333333333333335 at index 0.33\n",
      "Minimum value in data: -2.0000000000000004 at index 0.97\n",
      "Unable to select candidate from minimum deviation class 1-4_hours_0.0, backing off to sampling a random row.\n",
      "Moved \"sympy__sympy-24443\" with empiric difficulty \"0.33\" from train to test split.\n",
      "Moved \"matplotlib__matplotlib-14623\" with empiric difficulty \"0.97\" from test to train split.\n",
      "\n"
     ]
    }
   ],
   "source": [
    "empiric_difficulty_percent_deviations = train_df.empiric_difficulty.value_counts(normalize=True).sub(test_df.empiric_difficulty.value_counts(normalize=True), fill_value=0) * 100\n",
    "\n",
    "i = 0\n",
    "while empiric_difficulty_percent_deviations.max() > 2 or empiric_difficulty_percent_deviations.min() < -2: \n",
    "    i += 1\n",
    "    print(f'---- ITERATION {i} ----')\n",
    "    max_value = empiric_difficulty_percent_deviations.max()\n",
    "    max_index = empiric_difficulty_percent_deviations.idxmax()\n",
    "    min_value = empiric_difficulty_percent_deviations.min()\n",
    "    min_index = empiric_difficulty_percent_deviations.idxmin()\n",
    "    \n",
    "    print(f\"Maximum value in data: {max_value} at index {max_index}\")\n",
    "    print(f\"Minimum value in data: {min_value} at index {min_index}\")\n",
    "    \n",
    "    stratify_min_index = get_minimum_deviation_stratification_class(train_df, test_df)\n",
    "    \n",
    "    # train - test \n",
    "    #   => Max class has too many elements in train\n",
    "    #   => Min class has too many elements in test\n",
    "    # Shift from min_index in test to train and from max_index in train to test\n",
    "    candidate_rows = train_df[train_df['empiric_difficulty'] == max_index]\n",
    "    row_to_shift = determine_row_to_shift_from(candidate_rows, stratify_min_index)\n",
    "    train_df, test_df = move(row_to_shift, src=train_df, dst=test_df)\n",
    "    print(f'Moved \"{row_to_shift[\"instance_id\"].values[0]}\" with empiric difficulty \"{row_to_shift[\"empiric_difficulty\"].values[0]}\" from train to test split.')\n",
    "    \n",
    "    stratify_min_index = get_minimum_deviation_stratification_class(train_df, test_df)\n",
    "    \n",
    "    candidate_rows = test_df[test_df['empiric_difficulty'] == min_index]\n",
    "    row_to_shift = determine_row_to_shift_from(candidate_rows, stratify_min_index)\n",
    "    test_df, train_df  = move(row_to_shift, src=test_df, dst=train_df)\n",
    "    print(f'Moved \"{row_to_shift[\"instance_id\"].values[0]}\" with empiric difficulty \"{row_to_shift[\"empiric_difficulty\"].values[0]}\" from test to train split.\\n')\n",
    "    \n",
    "    empiric_difficulty_percent_deviations = train_df.empiric_difficulty.value_counts(normalize=True).sub(test_df.empiric_difficulty.value_counts(normalize=True), fill_value=0) * 100"
   ]
  },
  {
   "cell_type": "code",
   "execution_count": 72,
   "id": "5db58840cf86d53a",
   "metadata": {
    "ExecuteTime": {
     "end_time": "2024-11-13T09:24:34.611812Z",
     "start_time": "2024-11-13T09:24:34.464333Z"
    }
   },
   "outputs": [
    {
     "ename": "FileNotFoundError",
     "evalue": "[Errno 2] No such file or directory: '.../report_resources/train_test_empiric_difficulty_deviation-after_correction.pdf'",
     "output_type": "error",
     "traceback": [
      "\u001b[0;31m---------------------------------------------------------------------------\u001b[0m",
      "\u001b[0;31mFileNotFoundError\u001b[0m                         Traceback (most recent call last)",
      "Cell \u001b[0;32mIn[72], line 2\u001b[0m\n\u001b[1;32m      1\u001b[0m plt \u001b[38;5;241m=\u001b[39m build_empiric_difficulty_deviation_plot(train_df, test_df)\n\u001b[0;32m----> 2\u001b[0m plt\u001b[38;5;241m.\u001b[39msavefig(\u001b[38;5;124m'\u001b[39m\u001b[38;5;124m.../report_resources/train_test_empiric_difficulty_deviation-after_correction.pdf\u001b[39m\u001b[38;5;124m'\u001b[39m)\n",
      "File \u001b[0;32m/opt/anaconda3/envs/core-contributor/lib/python3.12/site-packages/matplotlib/pyplot.py:1228\u001b[0m, in \u001b[0;36msavefig\u001b[0;34m(*args, **kwargs)\u001b[0m\n\u001b[1;32m   1225\u001b[0m fig \u001b[38;5;241m=\u001b[39m gcf()\n\u001b[1;32m   1226\u001b[0m \u001b[38;5;66;03m# savefig default implementation has no return, so mypy is unhappy\u001b[39;00m\n\u001b[1;32m   1227\u001b[0m \u001b[38;5;66;03m# presumably this is here because subclasses can return?\u001b[39;00m\n\u001b[0;32m-> 1228\u001b[0m res \u001b[38;5;241m=\u001b[39m fig\u001b[38;5;241m.\u001b[39msavefig(\u001b[38;5;241m*\u001b[39margs, \u001b[38;5;241m*\u001b[39m\u001b[38;5;241m*\u001b[39mkwargs)  \u001b[38;5;66;03m# type: ignore[func-returns-value]\u001b[39;00m\n\u001b[1;32m   1229\u001b[0m fig\u001b[38;5;241m.\u001b[39mcanvas\u001b[38;5;241m.\u001b[39mdraw_idle()  \u001b[38;5;66;03m# Need this if 'transparent=True', to reset colors.\u001b[39;00m\n\u001b[1;32m   1230\u001b[0m \u001b[38;5;28;01mreturn\u001b[39;00m res\n",
      "File \u001b[0;32m/opt/anaconda3/envs/core-contributor/lib/python3.12/site-packages/matplotlib/figure.py:3395\u001b[0m, in \u001b[0;36mFigure.savefig\u001b[0;34m(self, fname, transparent, **kwargs)\u001b[0m\n\u001b[1;32m   3393\u001b[0m     \u001b[38;5;28;01mfor\u001b[39;00m ax \u001b[38;5;129;01min\u001b[39;00m \u001b[38;5;28mself\u001b[39m\u001b[38;5;241m.\u001b[39maxes:\n\u001b[1;32m   3394\u001b[0m         _recursively_make_axes_transparent(stack, ax)\n\u001b[0;32m-> 3395\u001b[0m \u001b[38;5;28mself\u001b[39m\u001b[38;5;241m.\u001b[39mcanvas\u001b[38;5;241m.\u001b[39mprint_figure(fname, \u001b[38;5;241m*\u001b[39m\u001b[38;5;241m*\u001b[39mkwargs)\n",
      "File \u001b[0;32m/opt/anaconda3/envs/core-contributor/lib/python3.12/site-packages/matplotlib/backend_bases.py:2204\u001b[0m, in \u001b[0;36mFigureCanvasBase.print_figure\u001b[0;34m(self, filename, dpi, facecolor, edgecolor, orientation, format, bbox_inches, pad_inches, bbox_extra_artists, backend, **kwargs)\u001b[0m\n\u001b[1;32m   2200\u001b[0m \u001b[38;5;28;01mtry\u001b[39;00m:\n\u001b[1;32m   2201\u001b[0m     \u001b[38;5;66;03m# _get_renderer may change the figure dpi (as vector formats\u001b[39;00m\n\u001b[1;32m   2202\u001b[0m     \u001b[38;5;66;03m# force the figure dpi to 72), so we need to set it again here.\u001b[39;00m\n\u001b[1;32m   2203\u001b[0m     \u001b[38;5;28;01mwith\u001b[39;00m cbook\u001b[38;5;241m.\u001b[39m_setattr_cm(\u001b[38;5;28mself\u001b[39m\u001b[38;5;241m.\u001b[39mfigure, dpi\u001b[38;5;241m=\u001b[39mdpi):\n\u001b[0;32m-> 2204\u001b[0m         result \u001b[38;5;241m=\u001b[39m print_method(\n\u001b[1;32m   2205\u001b[0m             filename,\n\u001b[1;32m   2206\u001b[0m             facecolor\u001b[38;5;241m=\u001b[39mfacecolor,\n\u001b[1;32m   2207\u001b[0m             edgecolor\u001b[38;5;241m=\u001b[39medgecolor,\n\u001b[1;32m   2208\u001b[0m             orientation\u001b[38;5;241m=\u001b[39morientation,\n\u001b[1;32m   2209\u001b[0m             bbox_inches_restore\u001b[38;5;241m=\u001b[39m_bbox_inches_restore,\n\u001b[1;32m   2210\u001b[0m             \u001b[38;5;241m*\u001b[39m\u001b[38;5;241m*\u001b[39mkwargs)\n\u001b[1;32m   2211\u001b[0m \u001b[38;5;28;01mfinally\u001b[39;00m:\n\u001b[1;32m   2212\u001b[0m     \u001b[38;5;28;01mif\u001b[39;00m bbox_inches \u001b[38;5;129;01mand\u001b[39;00m restore_bbox:\n",
      "File \u001b[0;32m/opt/anaconda3/envs/core-contributor/lib/python3.12/site-packages/matplotlib/backend_bases.py:2054\u001b[0m, in \u001b[0;36mFigureCanvasBase._switch_canvas_and_return_print_method.<locals>.<lambda>\u001b[0;34m(*args, **kwargs)\u001b[0m\n\u001b[1;32m   2050\u001b[0m     optional_kws \u001b[38;5;241m=\u001b[39m {  \u001b[38;5;66;03m# Passed by print_figure for other renderers.\u001b[39;00m\n\u001b[1;32m   2051\u001b[0m         \u001b[38;5;124m\"\u001b[39m\u001b[38;5;124mdpi\u001b[39m\u001b[38;5;124m\"\u001b[39m, \u001b[38;5;124m\"\u001b[39m\u001b[38;5;124mfacecolor\u001b[39m\u001b[38;5;124m\"\u001b[39m, \u001b[38;5;124m\"\u001b[39m\u001b[38;5;124medgecolor\u001b[39m\u001b[38;5;124m\"\u001b[39m, \u001b[38;5;124m\"\u001b[39m\u001b[38;5;124morientation\u001b[39m\u001b[38;5;124m\"\u001b[39m,\n\u001b[1;32m   2052\u001b[0m         \u001b[38;5;124m\"\u001b[39m\u001b[38;5;124mbbox_inches_restore\u001b[39m\u001b[38;5;124m\"\u001b[39m}\n\u001b[1;32m   2053\u001b[0m     skip \u001b[38;5;241m=\u001b[39m optional_kws \u001b[38;5;241m-\u001b[39m {\u001b[38;5;241m*\u001b[39minspect\u001b[38;5;241m.\u001b[39msignature(meth)\u001b[38;5;241m.\u001b[39mparameters}\n\u001b[0;32m-> 2054\u001b[0m     print_method \u001b[38;5;241m=\u001b[39m functools\u001b[38;5;241m.\u001b[39mwraps(meth)(\u001b[38;5;28;01mlambda\u001b[39;00m \u001b[38;5;241m*\u001b[39margs, \u001b[38;5;241m*\u001b[39m\u001b[38;5;241m*\u001b[39mkwargs: meth(\n\u001b[1;32m   2055\u001b[0m         \u001b[38;5;241m*\u001b[39margs, \u001b[38;5;241m*\u001b[39m\u001b[38;5;241m*\u001b[39m{k: v \u001b[38;5;28;01mfor\u001b[39;00m k, v \u001b[38;5;129;01min\u001b[39;00m kwargs\u001b[38;5;241m.\u001b[39mitems() \u001b[38;5;28;01mif\u001b[39;00m k \u001b[38;5;129;01mnot\u001b[39;00m \u001b[38;5;129;01min\u001b[39;00m skip}))\n\u001b[1;32m   2056\u001b[0m \u001b[38;5;28;01melse\u001b[39;00m:  \u001b[38;5;66;03m# Let third-parties do as they see fit.\u001b[39;00m\n\u001b[1;32m   2057\u001b[0m     print_method \u001b[38;5;241m=\u001b[39m meth\n",
      "File \u001b[0;32m/opt/anaconda3/envs/core-contributor/lib/python3.12/site-packages/matplotlib/backends/backend_pdf.py:2792\u001b[0m, in \u001b[0;36mFigureCanvasPdf.print_pdf\u001b[0;34m(self, filename, bbox_inches_restore, metadata)\u001b[0m\n\u001b[1;32m   2790\u001b[0m     file \u001b[38;5;241m=\u001b[39m filename\u001b[38;5;241m.\u001b[39m_ensure_file()\n\u001b[1;32m   2791\u001b[0m \u001b[38;5;28;01melse\u001b[39;00m:\n\u001b[0;32m-> 2792\u001b[0m     file \u001b[38;5;241m=\u001b[39m PdfFile(filename, metadata\u001b[38;5;241m=\u001b[39mmetadata)\n\u001b[1;32m   2793\u001b[0m \u001b[38;5;28;01mtry\u001b[39;00m:\n\u001b[1;32m   2794\u001b[0m     file\u001b[38;5;241m.\u001b[39mnewPage(width, height)\n",
      "File \u001b[0;32m/opt/anaconda3/envs/core-contributor/lib/python3.12/site-packages/matplotlib/backends/backend_pdf.py:688\u001b[0m, in \u001b[0;36mPdfFile.__init__\u001b[0;34m(self, filename, metadata)\u001b[0m\n\u001b[1;32m    686\u001b[0m \u001b[38;5;28mself\u001b[39m\u001b[38;5;241m.\u001b[39moriginal_file_like \u001b[38;5;241m=\u001b[39m \u001b[38;5;28;01mNone\u001b[39;00m\n\u001b[1;32m    687\u001b[0m \u001b[38;5;28mself\u001b[39m\u001b[38;5;241m.\u001b[39mtell_base \u001b[38;5;241m=\u001b[39m \u001b[38;5;241m0\u001b[39m\n\u001b[0;32m--> 688\u001b[0m fh, opened \u001b[38;5;241m=\u001b[39m cbook\u001b[38;5;241m.\u001b[39mto_filehandle(filename, \u001b[38;5;124m\"\u001b[39m\u001b[38;5;124mwb\u001b[39m\u001b[38;5;124m\"\u001b[39m, return_opened\u001b[38;5;241m=\u001b[39m\u001b[38;5;28;01mTrue\u001b[39;00m)\n\u001b[1;32m    689\u001b[0m \u001b[38;5;28;01mif\u001b[39;00m \u001b[38;5;129;01mnot\u001b[39;00m opened:\n\u001b[1;32m    690\u001b[0m     \u001b[38;5;28;01mtry\u001b[39;00m:\n",
      "File \u001b[0;32m/opt/anaconda3/envs/core-contributor/lib/python3.12/site-packages/matplotlib/cbook.py:483\u001b[0m, in \u001b[0;36mto_filehandle\u001b[0;34m(fname, flag, return_opened, encoding)\u001b[0m\n\u001b[1;32m    481\u001b[0m         fh \u001b[38;5;241m=\u001b[39m bz2\u001b[38;5;241m.\u001b[39mBZ2File(fname, flag)\n\u001b[1;32m    482\u001b[0m     \u001b[38;5;28;01melse\u001b[39;00m:\n\u001b[0;32m--> 483\u001b[0m         fh \u001b[38;5;241m=\u001b[39m \u001b[38;5;28mopen\u001b[39m(fname, flag, encoding\u001b[38;5;241m=\u001b[39mencoding)\n\u001b[1;32m    484\u001b[0m     opened \u001b[38;5;241m=\u001b[39m \u001b[38;5;28;01mTrue\u001b[39;00m\n\u001b[1;32m    485\u001b[0m \u001b[38;5;28;01melif\u001b[39;00m \u001b[38;5;28mhasattr\u001b[39m(fname, \u001b[38;5;124m'\u001b[39m\u001b[38;5;124mseek\u001b[39m\u001b[38;5;124m'\u001b[39m):\n",
      "\u001b[0;31mFileNotFoundError\u001b[0m: [Errno 2] No such file or directory: '.../report_resources/train_test_empiric_difficulty_deviation-after_correction.pdf'"
     ]
    },
    {
     "data": {
      "image/png": "[encoded data removed]",
      "text/plain": [
       "<Figure size 600x500 with 1 Axes>"
      ]
     },
     "metadata": {},
     "output_type": "display_data"
    }
   ],
   "source": [
    "plt = build_empiric_difficulty_deviation_plot(train_df, test_df)\n",
    "plt.savefig('.../report_resources/train_test_empiric_difficulty_deviation-after_correction.pdf')"
   ]
  },
  {
   "cell_type": "code",
   "execution_count": 73,
   "id": "9fbbc40f206211b4",
   "metadata": {
    "ExecuteTime": {
     "end_time": "2024-11-13T09:24:38.704572Z",
     "start_time": "2024-11-13T09:24:38.630478Z"
    }
   },
   "outputs": [
    {
     "data": {
      "image/png": "[encoded data removed]",
      "text/plain": [
       "<Figure size 600x500 with 1 Axes>"
      ]
     },
     "metadata": {},
     "output_type": "display_data"
    }
   ],
   "source": [
    "plt = build_stratification_class_deviation_plot(train_df, test_df)\n",
    "plt.savefig('../report_resources/train_test_difficulty_deviation-after_correction.pdf')"
   ]
  },
  {
   "cell_type": "markdown",
   "id": "8f8c95a4a6f60365",
   "metadata": {},
   "source": [
    "## Hardest Setting, 90-10 split with only unresolved samples in test-split"
   ]
  },
  {
   "cell_type": "code",
   "execution_count": 74,
   "id": "1f91084215daa337",
   "metadata": {
    "ExecuteTime": {
     "end_time": "2024-11-13T09:24:42.124085Z",
     "start_time": "2024-11-13T09:24:42.121508Z"
    }
   },
   "outputs": [],
   "source": [
    "test_df = swe_bench_verified[swe_bench_verified['times_solved'] == 0].sample(n=50, random_state=42)"
   ]
  },
  {
   "cell_type": "code",
   "execution_count": 75,
   "id": "1bdec28e338908ac",
   "metadata": {
    "ExecuteTime": {
     "end_time": "2024-11-13T09:24:42.488687Z",
     "start_time": "2024-11-13T09:24:42.486689Z"
    }
   },
   "outputs": [],
   "source": [
    "train_df = swe_bench_verified.drop(test_df.index, inplace=False)"
   ]
  },
  {
   "cell_type": "code",
   "execution_count": 76,
   "id": "990d1d13b9447999",
   "metadata": {
    "ExecuteTime": {
     "end_time": "2024-11-13T09:24:44.481250Z",
     "start_time": "2024-11-13T09:24:44.430346Z"
    }
   },
   "outputs": [
    {
     "data": {
      "image/png": "[encoded data removed]",
      "text/plain": [
       "<Figure size 600x500 with 1 Axes>"
      ]
     },
     "metadata": {},
     "output_type": "display_data"
    }
   ],
   "source": [
    "plt = build_stratification_class_deviation_plot(train_df, test_df)\n",
    "plt.show()"
   ]
  },
  {
   "cell_type": "markdown",
   "id": "3e55c1931c300963",
   "metadata": {},
   "source": [
    "We see that in this setting, in line what we have seen already above, we oversample the most difficult classes of samples: >4hrs, 1hr to 4hrs with good tests, 15min to 1hr with poor tests in the test-split. "
   ]
  },
  {
   "cell_type": "code",
   "execution_count": null,
   "id": "262411516fd177",
   "metadata": {},
   "outputs": [],
   "source": []
  }
 ],
 "metadata": {
  "kernelspec": {
   "display_name": "auto-code-rover",
   "language": "python",
   "name": "python3"
  },
  "language_info": {
   "codemirror_mode": {
    "name": "ipython",
    "version": 3
   },
   "file_extension": ".py",
   "mimetype": "text/x-python",
   "name": "python",
   "nbconvert_exporter": "python",
   "pygments_lexer": "ipython3",
   "version": "3.12.5"
  }
 },
 "nbformat": 4,
 "nbformat_minor": 5
}
